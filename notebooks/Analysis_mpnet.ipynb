{
 "cells": [
  {
   "cell_type": "code",
   "execution_count": 1,
   "id": "6f6156f9-8522-4d45-87ac-d1c437fea63f",
   "metadata": {},
   "outputs": [],
   "source": [
    "import numpy as np\n",
    "import pandas as pd \n",
    "import re\n",
    "import warnings\n",
    "pd.set_option(\"display.max_colwidth\", 200)\n",
    "warnings.filterwarnings(\"ignore\")\n",
    "# import nltk\n",
    "# import spacy                                       ## pip install -U spacy\n",
    "# from nltk.tokenize.toktok import ToktokTokenizer\n",
    "import seaborn as sns\n",
    "from sklearn.feature_extraction.text import CountVectorizer\n",
    "import matplotlib.pyplot as plt"
   ]
  },
  {
   "cell_type": "code",
   "execution_count": 2,
   "id": "0ca14c4d-920d-4250-b964-f8257549966f",
   "metadata": {},
   "outputs": [],
   "source": [
    "from nltk.cluster import KMeansClusterer\n",
    "import nltk\n",
    "from sklearn.manifold import TSNE"
   ]
  },
  {
   "cell_type": "code",
   "execution_count": 3,
   "id": "d2682af8-ca22-4a5f-b074-10afe0d4dd2c",
   "metadata": {},
   "outputs": [],
   "source": [
    "from sklearn.cluster import KMeans"
   ]
  },
  {
   "cell_type": "code",
   "execution_count": 4,
   "id": "11eaf9e0-0701-4f48-9c6f-29b6a23d9685",
   "metadata": {},
   "outputs": [],
   "source": [
    "import numpy as np\n",
    "import seaborn as sns"
   ]
  },
  {
   "cell_type": "code",
   "execution_count": 5,
   "id": "4bb719c3-b032-4edd-9158-aba02cc82624",
   "metadata": {},
   "outputs": [
    {
     "data": {
      "text/html": [
       "<div>\n",
       "<style scoped>\n",
       "    .dataframe tbody tr th:only-of-type {\n",
       "        vertical-align: middle;\n",
       "    }\n",
       "\n",
       "    .dataframe tbody tr th {\n",
       "        vertical-align: top;\n",
       "    }\n",
       "\n",
       "    .dataframe thead th {\n",
       "        text-align: right;\n",
       "    }\n",
       "</style>\n",
       "<table border=\"1\" class=\"dataframe\">\n",
       "  <thead>\n",
       "    <tr style=\"text-align: right;\">\n",
       "      <th></th>\n",
       "      <th>Test Case Description</th>\n",
       "      <th>Label</th>\n",
       "    </tr>\n",
       "  </thead>\n",
       "  <tbody>\n",
       "    <tr>\n",
       "      <th>0</th>\n",
       "      <td>What's the weather like in Chicago?</td>\n",
       "      <td>Weather</td>\n",
       "    </tr>\n",
       "    <tr>\n",
       "      <th>1</th>\n",
       "      <td>What is the forecast in Tampa for tomorrow?</td>\n",
       "      <td>Weather</td>\n",
       "    </tr>\n",
       "    <tr>\n",
       "      <th>2</th>\n",
       "      <td>What is the weather in Oregon today?</td>\n",
       "      <td>Weather</td>\n",
       "    </tr>\n",
       "    <tr>\n",
       "      <th>3</th>\n",
       "      <td>Is it raining in France right now?</td>\n",
       "      <td>Weather</td>\n",
       "    </tr>\n",
       "    <tr>\n",
       "      <th>4</th>\n",
       "      <td>Show me the weather in Mexico for next week.</td>\n",
       "      <td>Weather</td>\n",
       "    </tr>\n",
       "  </tbody>\n",
       "</table>\n",
       "</div>"
      ],
      "text/plain": [
       "                          Test Case Description    Label\n",
       "0           What's the weather like in Chicago?  Weather\n",
       "1   What is the forecast in Tampa for tomorrow?  Weather\n",
       "2          What is the weather in Oregon today?  Weather\n",
       "3            Is it raining in France right now?  Weather\n",
       "4  Show me the weather in Mexico for next week.  Weather"
      ]
     },
     "execution_count": 5,
     "metadata": {},
     "output_type": "execute_result"
    }
   ],
   "source": [
    "data = pd.read_csv('fbportal_updated.csv')\n",
    "data.head()"
   ]
  },
  {
   "cell_type": "code",
   "execution_count": 6,
   "id": "b98f48a9-221e-4385-8a59-3895994a08e6",
   "metadata": {},
   "outputs": [],
   "source": [
    "def text_cleaner(text):\n",
    "   \n",
    "    newString = text.lower()\n",
    "    newString = re.sub(r\"pre-conditions: \",\"\",newString)\n",
    "    newString = re.sub(r\"precondition: \",\"\",newString)\n",
    "    newString = re.sub(r\"[^a-zA-Z0-9]+\", ' ', newString)\n",
    "    #newString = remove_stopwords(newString)\n",
    "    return newString"
   ]
  },
  {
   "cell_type": "code",
   "execution_count": 7,
   "id": "3b19eb32-c029-4f90-8b3e-4c3b199ce01b",
   "metadata": {},
   "outputs": [],
   "source": [
    "#call the function\n",
    "cleaned_text = []\n",
    "data['Test Case Description']=data['Test Case Description'].astype(str)\n",
    "for t in data['Test Case Description']:\n",
    "    cleaned_text.append(text_cleaner(t))\n",
    "data['cleaned_text']=cleaned_text"
   ]
  },
  {
   "cell_type": "markdown",
   "id": "4fe2c67f-eb3f-4bf0-be35-739b731f6b1f",
   "metadata": {},
   "source": [
    "## Sentence Embedding and applying clustering on it by using sentence_transformers\n",
    "\n",
    "#### Trying with all-mpnet-base-v2 pre-trained model"
   ]
  },
  {
   "cell_type": "code",
   "execution_count": 8,
   "id": "2c15e24b-fdc4-4056-be91-4ee2841aa183",
   "metadata": {},
   "outputs": [],
   "source": [
    "from sentence_transformers import SentenceTransformer\n",
    "\n",
    "model = SentenceTransformer('all-mpnet-base-v2')"
   ]
  },
  {
   "cell_type": "code",
   "execution_count": 9,
   "id": "4969dea9-a8a6-48be-952a-fbbc2fa3c064",
   "metadata": {},
   "outputs": [],
   "source": [
    "def embeddings(data):\n",
    "    sentence_embeddings = model.encode(list(data['cleaned_text']))\n",
    "    return sentence_embeddings\n",
    "embeddings_trs=embeddings(data)\n",
    "data['embediing_trf_mpnet']=list(embeddings_trs)"
   ]
  },
  {
   "cell_type": "code",
   "execution_count": 10,
   "id": "a9c79e9a-e9f4-4ef0-878b-0b9dce317bbb",
   "metadata": {},
   "outputs": [
    {
     "data": {
      "text/plain": [
       "(768,)"
      ]
     },
     "execution_count": 10,
     "metadata": {},
     "output_type": "execute_result"
    }
   ],
   "source": [
    "data['embediing_trf_mpnet'][0].shape"
   ]
  },
  {
   "cell_type": "code",
   "execution_count": 11,
   "id": "06e1fe58-01b3-4127-bd2c-e6ac4714e9d8",
   "metadata": {},
   "outputs": [
    {
     "data": {
      "text/html": [
       "<div>\n",
       "<style scoped>\n",
       "    .dataframe tbody tr th:only-of-type {\n",
       "        vertical-align: middle;\n",
       "    }\n",
       "\n",
       "    .dataframe tbody tr th {\n",
       "        vertical-align: top;\n",
       "    }\n",
       "\n",
       "    .dataframe thead th {\n",
       "        text-align: right;\n",
       "    }\n",
       "</style>\n",
       "<table border=\"1\" class=\"dataframe\">\n",
       "  <thead>\n",
       "    <tr style=\"text-align: right;\">\n",
       "      <th></th>\n",
       "      <th>Test Case Description</th>\n",
       "      <th>Label</th>\n",
       "      <th>cleaned_text</th>\n",
       "      <th>embediing_trf_mpnet</th>\n",
       "    </tr>\n",
       "  </thead>\n",
       "  <tbody>\n",
       "    <tr>\n",
       "      <th>0</th>\n",
       "      <td>What's the weather like in Chicago?</td>\n",
       "      <td>Weather</td>\n",
       "      <td>what s the weather like in chicago</td>\n",
       "      <td>[-0.038886096, 0.039172754, -0.011775193, -0.012595732, 0.008800774, 0.01456551, -0.018293185, 0.029476797, 0.08851275, -0.008131694, -0.07434538, 0.051997386, 0.028299224, 0.008803181, -0.0287639...</td>\n",
       "    </tr>\n",
       "    <tr>\n",
       "      <th>1</th>\n",
       "      <td>What is the forecast in Tampa for tomorrow?</td>\n",
       "      <td>Weather</td>\n",
       "      <td>what is the forecast in tampa for tomorrow</td>\n",
       "      <td>[-0.021300891, -0.034242995, -0.039931852, -0.007983509, 0.01460343, -0.009178294, -0.013319595, -0.033735033, -0.0997696, 0.032089926, -0.042296473, -0.03623118, -0.005259653, 0.06721202, 0.03618...</td>\n",
       "    </tr>\n",
       "    <tr>\n",
       "      <th>2</th>\n",
       "      <td>What is the weather in Oregon today?</td>\n",
       "      <td>Weather</td>\n",
       "      <td>what is the weather in oregon today</td>\n",
       "      <td>[-0.050034225, -0.0004594926, -0.003059029, -0.014385756, 0.0065113707, -0.03850563, -0.044836182, -0.00041785938, 0.051234696, 0.006219396, -0.04550268, 0.013734375, -0.009135751, -0.018035572, -...</td>\n",
       "    </tr>\n",
       "    <tr>\n",
       "      <th>3</th>\n",
       "      <td>Is it raining in France right now?</td>\n",
       "      <td>Weather</td>\n",
       "      <td>is it raining in france right now</td>\n",
       "      <td>[-0.024892785, 0.033829536, 0.00089585804, 0.031008298, -0.026053838, -0.034015376, -0.02972944, -0.054713596, 0.004699974, -0.009077651, -0.023102218, -0.011936427, -0.026847985, -0.01125945, 0.0...</td>\n",
       "    </tr>\n",
       "    <tr>\n",
       "      <th>4</th>\n",
       "      <td>Show me the weather in Mexico for next week.</td>\n",
       "      <td>Weather</td>\n",
       "      <td>show me the weather in mexico for next week</td>\n",
       "      <td>[-0.083847985, 0.09669935, -0.03942846, 0.03364007, 0.012671156, -0.017876104, -0.01405827, -0.0055490085, 0.07294767, 0.014877578, -0.06309986, 0.029793868, 0.009281663, 0.054327942, 0.033183184,...</td>\n",
       "    </tr>\n",
       "  </tbody>\n",
       "</table>\n",
       "</div>"
      ],
      "text/plain": [
       "                          Test Case Description    Label  \\\n",
       "0           What's the weather like in Chicago?  Weather   \n",
       "1   What is the forecast in Tampa for tomorrow?  Weather   \n",
       "2          What is the weather in Oregon today?  Weather   \n",
       "3            Is it raining in France right now?  Weather   \n",
       "4  Show me the weather in Mexico for next week.  Weather   \n",
       "\n",
       "                                   cleaned_text  \\\n",
       "0           what s the weather like in chicago    \n",
       "1   what is the forecast in tampa for tomorrow    \n",
       "2          what is the weather in oregon today    \n",
       "3            is it raining in france right now    \n",
       "4  show me the weather in mexico for next week    \n",
       "\n",
       "                                                                                                                                                                                       embediing_trf_mpnet  \n",
       "0  [-0.038886096, 0.039172754, -0.011775193, -0.012595732, 0.008800774, 0.01456551, -0.018293185, 0.029476797, 0.08851275, -0.008131694, -0.07434538, 0.051997386, 0.028299224, 0.008803181, -0.0287639...  \n",
       "1  [-0.021300891, -0.034242995, -0.039931852, -0.007983509, 0.01460343, -0.009178294, -0.013319595, -0.033735033, -0.0997696, 0.032089926, -0.042296473, -0.03623118, -0.005259653, 0.06721202, 0.03618...  \n",
       "2  [-0.050034225, -0.0004594926, -0.003059029, -0.014385756, 0.0065113707, -0.03850563, -0.044836182, -0.00041785938, 0.051234696, 0.006219396, -0.04550268, 0.013734375, -0.009135751, -0.018035572, -...  \n",
       "3  [-0.024892785, 0.033829536, 0.00089585804, 0.031008298, -0.026053838, -0.034015376, -0.02972944, -0.054713596, 0.004699974, -0.009077651, -0.023102218, -0.011936427, -0.026847985, -0.01125945, 0.0...  \n",
       "4  [-0.083847985, 0.09669935, -0.03942846, 0.03364007, 0.012671156, -0.017876104, -0.01405827, -0.0055490085, 0.07294767, 0.014877578, -0.06309986, 0.029793868, 0.009281663, 0.054327942, 0.033183184,...  "
      ]
     },
     "execution_count": 11,
     "metadata": {},
     "output_type": "execute_result"
    }
   ],
   "source": [
    "data.head()"
   ]
  },
  {
   "cell_type": "markdown",
   "id": "0a2c8cb3-4b30-4f43-9d8f-b89b7d556ed8",
   "metadata": {},
   "source": [
    "### Clustering by KMeansClusterer\n"
   ]
  },
  {
   "cell_type": "code",
   "execution_count": 12,
   "id": "167d9303-c4c5-4ae6-9963-12a9d441d36a",
   "metadata": {},
   "outputs": [],
   "source": [
    "def clustering_data_trf(data,NUM_CLUSTERS = 8):\n",
    "\n",
    "    sentences = data['cleaned_text']\n",
    "\n",
    "    X = np.array(data['embediing_trf_mpnet'].tolist())\n",
    "\n",
    "    kclusterer = KMeansClusterer(\n",
    "        NUM_CLUSTERS, distance=nltk.cluster.util.cosine_distance,\n",
    "        repeats=25,avoid_empty_clusters=True)\n",
    "\n",
    "    assigned_clusters = kclusterer.cluster(X, assign_clusters=True)\n",
    "\n",
    "    data['cluster_trf_mpnet'] = pd.Series(assigned_clusters, index=data.index)\n",
    "    data['centroid_trf_mpnet'] = data['cluster_trf_mpnet'].apply(lambda x: kclusterer.means()[x])\n",
    "    return data, assigned_clusters"
   ]
  },
  {
   "cell_type": "code",
   "execution_count": 13,
   "id": "f552b0b1-066d-4492-b3ca-5704f7b99e6e",
   "metadata": {},
   "outputs": [],
   "source": [
    "data, cluster_trf=clustering_data_trf(data)"
   ]
  },
  {
   "cell_type": "code",
   "execution_count": 14,
   "id": "d6c846bf-df5b-40de-bbb7-f179e0dc7879",
   "metadata": {},
   "outputs": [
    {
     "data": {
      "text/html": [
       "<div>\n",
       "<style scoped>\n",
       "    .dataframe tbody tr th:only-of-type {\n",
       "        vertical-align: middle;\n",
       "    }\n",
       "\n",
       "    .dataframe tbody tr th {\n",
       "        vertical-align: top;\n",
       "    }\n",
       "\n",
       "    .dataframe thead th {\n",
       "        text-align: right;\n",
       "    }\n",
       "</style>\n",
       "<table border=\"1\" class=\"dataframe\">\n",
       "  <thead>\n",
       "    <tr style=\"text-align: right;\">\n",
       "      <th></th>\n",
       "      <th>Test Case Description</th>\n",
       "      <th>Label</th>\n",
       "      <th>cleaned_text</th>\n",
       "      <th>embediing_trf_mpnet</th>\n",
       "      <th>cluster_trf_mpnet</th>\n",
       "      <th>centroid_trf_mpnet</th>\n",
       "    </tr>\n",
       "  </thead>\n",
       "  <tbody>\n",
       "    <tr>\n",
       "      <th>0</th>\n",
       "      <td>What's the weather like in Chicago?</td>\n",
       "      <td>Weather</td>\n",
       "      <td>what s the weather like in chicago</td>\n",
       "      <td>[-0.038886096, 0.039172754, -0.011775193, -0.012595732, 0.008800774, 0.01456551, -0.018293185, 0.029476797, 0.08851275, -0.008131694, -0.07434538, 0.051997386, 0.028299224, 0.008803181, -0.0287639...</td>\n",
       "      <td>7</td>\n",
       "      <td>[-0.030004976, -0.0045293462, -0.013178298, 0.011955706, -0.01587347, -0.011056222, -0.012998073, -0.004870579, 0.030207774, 0.015887229, -0.015799701, 0.01243306, -0.0008293958, 0.021111837, 0.02...</td>\n",
       "    </tr>\n",
       "    <tr>\n",
       "      <th>1</th>\n",
       "      <td>What is the forecast in Tampa for tomorrow?</td>\n",
       "      <td>Weather</td>\n",
       "      <td>what is the forecast in tampa for tomorrow</td>\n",
       "      <td>[-0.021300891, -0.034242995, -0.039931852, -0.007983509, 0.01460343, -0.009178294, -0.013319595, -0.033735033, -0.0997696, 0.032089926, -0.042296473, -0.03623118, -0.005259653, 0.06721202, 0.03618...</td>\n",
       "      <td>7</td>\n",
       "      <td>[-0.030004976, -0.0045293462, -0.013178298, 0.011955706, -0.01587347, -0.011056222, -0.012998073, -0.004870579, 0.030207774, 0.015887229, -0.015799701, 0.01243306, -0.0008293958, 0.021111837, 0.02...</td>\n",
       "    </tr>\n",
       "    <tr>\n",
       "      <th>2</th>\n",
       "      <td>What is the weather in Oregon today?</td>\n",
       "      <td>Weather</td>\n",
       "      <td>what is the weather in oregon today</td>\n",
       "      <td>[-0.050034225, -0.0004594926, -0.003059029, -0.014385756, 0.0065113707, -0.03850563, -0.044836182, -0.00041785938, 0.051234696, 0.006219396, -0.04550268, 0.013734375, -0.009135751, -0.018035572, -...</td>\n",
       "      <td>7</td>\n",
       "      <td>[-0.030004976, -0.0045293462, -0.013178298, 0.011955706, -0.01587347, -0.011056222, -0.012998073, -0.004870579, 0.030207774, 0.015887229, -0.015799701, 0.01243306, -0.0008293958, 0.021111837, 0.02...</td>\n",
       "    </tr>\n",
       "    <tr>\n",
       "      <th>3</th>\n",
       "      <td>Is it raining in France right now?</td>\n",
       "      <td>Weather</td>\n",
       "      <td>is it raining in france right now</td>\n",
       "      <td>[-0.024892785, 0.033829536, 0.00089585804, 0.031008298, -0.026053838, -0.034015376, -0.02972944, -0.054713596, 0.004699974, -0.009077651, -0.023102218, -0.011936427, -0.026847985, -0.01125945, 0.0...</td>\n",
       "      <td>7</td>\n",
       "      <td>[-0.030004976, -0.0045293462, -0.013178298, 0.011955706, -0.01587347, -0.011056222, -0.012998073, -0.004870579, 0.030207774, 0.015887229, -0.015799701, 0.01243306, -0.0008293958, 0.021111837, 0.02...</td>\n",
       "    </tr>\n",
       "    <tr>\n",
       "      <th>4</th>\n",
       "      <td>Show me the weather in Mexico for next week.</td>\n",
       "      <td>Weather</td>\n",
       "      <td>show me the weather in mexico for next week</td>\n",
       "      <td>[-0.083847985, 0.09669935, -0.03942846, 0.03364007, 0.012671156, -0.017876104, -0.01405827, -0.0055490085, 0.07294767, 0.014877578, -0.06309986, 0.029793868, 0.009281663, 0.054327942, 0.033183184,...</td>\n",
       "      <td>7</td>\n",
       "      <td>[-0.030004976, -0.0045293462, -0.013178298, 0.011955706, -0.01587347, -0.011056222, -0.012998073, -0.004870579, 0.030207774, 0.015887229, -0.015799701, 0.01243306, -0.0008293958, 0.021111837, 0.02...</td>\n",
       "    </tr>\n",
       "  </tbody>\n",
       "</table>\n",
       "</div>"
      ],
      "text/plain": [
       "                          Test Case Description    Label  \\\n",
       "0           What's the weather like in Chicago?  Weather   \n",
       "1   What is the forecast in Tampa for tomorrow?  Weather   \n",
       "2          What is the weather in Oregon today?  Weather   \n",
       "3            Is it raining in France right now?  Weather   \n",
       "4  Show me the weather in Mexico for next week.  Weather   \n",
       "\n",
       "                                   cleaned_text  \\\n",
       "0           what s the weather like in chicago    \n",
       "1   what is the forecast in tampa for tomorrow    \n",
       "2          what is the weather in oregon today    \n",
       "3            is it raining in france right now    \n",
       "4  show me the weather in mexico for next week    \n",
       "\n",
       "                                                                                                                                                                                       embediing_trf_mpnet  \\\n",
       "0  [-0.038886096, 0.039172754, -0.011775193, -0.012595732, 0.008800774, 0.01456551, -0.018293185, 0.029476797, 0.08851275, -0.008131694, -0.07434538, 0.051997386, 0.028299224, 0.008803181, -0.0287639...   \n",
       "1  [-0.021300891, -0.034242995, -0.039931852, -0.007983509, 0.01460343, -0.009178294, -0.013319595, -0.033735033, -0.0997696, 0.032089926, -0.042296473, -0.03623118, -0.005259653, 0.06721202, 0.03618...   \n",
       "2  [-0.050034225, -0.0004594926, -0.003059029, -0.014385756, 0.0065113707, -0.03850563, -0.044836182, -0.00041785938, 0.051234696, 0.006219396, -0.04550268, 0.013734375, -0.009135751, -0.018035572, -...   \n",
       "3  [-0.024892785, 0.033829536, 0.00089585804, 0.031008298, -0.026053838, -0.034015376, -0.02972944, -0.054713596, 0.004699974, -0.009077651, -0.023102218, -0.011936427, -0.026847985, -0.01125945, 0.0...   \n",
       "4  [-0.083847985, 0.09669935, -0.03942846, 0.03364007, 0.012671156, -0.017876104, -0.01405827, -0.0055490085, 0.07294767, 0.014877578, -0.06309986, 0.029793868, 0.009281663, 0.054327942, 0.033183184,...   \n",
       "\n",
       "   cluster_trf_mpnet  \\\n",
       "0                  7   \n",
       "1                  7   \n",
       "2                  7   \n",
       "3                  7   \n",
       "4                  7   \n",
       "\n",
       "                                                                                                                                                                                        centroid_trf_mpnet  \n",
       "0  [-0.030004976, -0.0045293462, -0.013178298, 0.011955706, -0.01587347, -0.011056222, -0.012998073, -0.004870579, 0.030207774, 0.015887229, -0.015799701, 0.01243306, -0.0008293958, 0.021111837, 0.02...  \n",
       "1  [-0.030004976, -0.0045293462, -0.013178298, 0.011955706, -0.01587347, -0.011056222, -0.012998073, -0.004870579, 0.030207774, 0.015887229, -0.015799701, 0.01243306, -0.0008293958, 0.021111837, 0.02...  \n",
       "2  [-0.030004976, -0.0045293462, -0.013178298, 0.011955706, -0.01587347, -0.011056222, -0.012998073, -0.004870579, 0.030207774, 0.015887229, -0.015799701, 0.01243306, -0.0008293958, 0.021111837, 0.02...  \n",
       "3  [-0.030004976, -0.0045293462, -0.013178298, 0.011955706, -0.01587347, -0.011056222, -0.012998073, -0.004870579, 0.030207774, 0.015887229, -0.015799701, 0.01243306, -0.0008293958, 0.021111837, 0.02...  \n",
       "4  [-0.030004976, -0.0045293462, -0.013178298, 0.011955706, -0.01587347, -0.011056222, -0.012998073, -0.004870579, 0.030207774, 0.015887229, -0.015799701, 0.01243306, -0.0008293958, 0.021111837, 0.02...  "
      ]
     },
     "execution_count": 14,
     "metadata": {},
     "output_type": "execute_result"
    }
   ],
   "source": [
    "data.head()"
   ]
  },
  {
   "cell_type": "markdown",
   "id": "cae14263-a9fe-487b-8da4-4fd9bccc146a",
   "metadata": {},
   "source": [
    "### Visualization using TSNE"
   ]
  },
  {
   "cell_type": "code",
   "execution_count": 15,
   "id": "2d01ae25-6041-4f54-9fa0-85e6bc11d4e8",
   "metadata": {},
   "outputs": [
    {
     "data": {
      "image/png": "[encoded data removed]",
      "text/plain": [
       "<Figure size 432x288 with 1 Axes>"
      ]
     },
     "metadata": {
      "needs_background": "light"
     },
     "output_type": "display_data"
    }
   ],
   "source": [
    "X = np.array(data['embediing_trf_mpnet'].tolist())\n",
    "\n",
    "model = TSNE(n_components=2, random_state=0)\n",
    "np.set_printoptions(suppress=True)\n",
    "\n",
    "Y=model.fit_transform(X)\n",
    "\n",
    "plt.scatter(Y[:, 0], Y[:, 1], c=cluster_trf, s=290,alpha=.5)\n",
    "plt.show()"
   ]
  },
  {
   "cell_type": "markdown",
   "id": "fd05a140-6691-4481-94e7-a08c4402eecd",
   "metadata": {},
   "source": [
    "#### Visualization using Facetgrid"
   ]
  },
  {
   "cell_type": "code",
   "execution_count": 16,
   "id": "5bf9c041-ea99-44a5-a43b-e5c645ee5373",
   "metadata": {},
   "outputs": [
    {
     "data": {
      "image/png": "[encoded data removed]",
      "text/plain": [
       "<Figure size 483.875x432 with 1 Axes>"
      ]
     },
     "metadata": {
      "needs_background": "light"
     },
     "output_type": "display_data"
    }
   ],
   "source": [
    "tnse_data=np.vstack((Y.T, cluster_trf)).T\n",
    "tsne_df=pd.DataFrame(data=tnse_data, columns=('Dim1','Dim2','Clusters'))\n",
    "\n",
    "sns.FacetGrid(tsne_df, hue=\"Clusters\", size=6).map(plt.scatter, 'Dim1', 'Dim2').add_legend()\n",
    "plt.show()"
   ]
  },
  {
   "cell_type": "code",
   "execution_count": 17,
   "id": "25439384-3976-4287-8b64-c70dd2ec8069",
   "metadata": {},
   "outputs": [
    {
     "name": "stdout",
     "output_type": "stream",
     "text": [
      "Device       101\n",
      "Timer         47\n",
      "Calling       43\n",
      "Weather       35\n",
      "Alarm         28\n",
      "Time          26\n",
      "Corona        25\n",
      "Integrity     16\n",
      "Name: Label, dtype: int64\n",
      "7    50\n",
      "3    49\n",
      "1    46\n",
      "2    43\n",
      "0    40\n",
      "5    38\n",
      "6    30\n",
      "4    25\n",
      "Name: cluster_trf_mpnet, dtype: int64\n"
     ]
    }
   ],
   "source": [
    "print(data['Label'].value_counts())\n",
    "print(data['cluster_trf_mpnet'].value_counts())"
   ]
  },
  {
   "cell_type": "code",
   "execution_count": 18,
   "id": "ccd2d785-4ffc-4654-a598-c6639b733001",
   "metadata": {},
   "outputs": [
    {
     "data": {
      "text/html": [
       "<div>\n",
       "<style scoped>\n",
       "    .dataframe tbody tr th:only-of-type {\n",
       "        vertical-align: middle;\n",
       "    }\n",
       "\n",
       "    .dataframe tbody tr th {\n",
       "        vertical-align: top;\n",
       "    }\n",
       "\n",
       "    .dataframe thead th {\n",
       "        text-align: right;\n",
       "    }\n",
       "</style>\n",
       "<table border=\"1\" class=\"dataframe\">\n",
       "  <thead>\n",
       "    <tr style=\"text-align: right;\">\n",
       "      <th></th>\n",
       "      <th>cleaned_text</th>\n",
       "      <th>Label</th>\n",
       "      <th>cluster_trf_mpnet</th>\n",
       "    </tr>\n",
       "  </thead>\n",
       "  <tbody>\n",
       "    <tr>\n",
       "      <th>240</th>\n",
       "      <td>set volume at 1</td>\n",
       "      <td>Device</td>\n",
       "      <td>4</td>\n",
       "    </tr>\n",
       "    <tr>\n",
       "      <th>241</th>\n",
       "      <td>set volume at 5</td>\n",
       "      <td>Device</td>\n",
       "      <td>4</td>\n",
       "    </tr>\n",
       "    <tr>\n",
       "      <th>242</th>\n",
       "      <td>set volume at 10</td>\n",
       "      <td>Device</td>\n",
       "      <td>4</td>\n",
       "    </tr>\n",
       "    <tr>\n",
       "      <th>243</th>\n",
       "      <td>volume to 100</td>\n",
       "      <td>Device</td>\n",
       "      <td>4</td>\n",
       "    </tr>\n",
       "    <tr>\n",
       "      <th>244</th>\n",
       "      <td>mute the volume</td>\n",
       "      <td>Device</td>\n",
       "      <td>4</td>\n",
       "    </tr>\n",
       "    <tr>\n",
       "      <th>246</th>\n",
       "      <td>as loud as possible please</td>\n",
       "      <td>Device</td>\n",
       "      <td>4</td>\n",
       "    </tr>\n",
       "    <tr>\n",
       "      <th>247</th>\n",
       "      <td>be quiet</td>\n",
       "      <td>Device</td>\n",
       "      <td>4</td>\n",
       "    </tr>\n",
       "    <tr>\n",
       "      <th>252</th>\n",
       "      <td>current volume setting</td>\n",
       "      <td>Device</td>\n",
       "      <td>4</td>\n",
       "    </tr>\n",
       "    <tr>\n",
       "      <th>262</th>\n",
       "      <td>turn on camera expected tts i cant do that yet press the camera or microphone button on your device to enable or disable your camera and microphone</td>\n",
       "      <td>Device</td>\n",
       "      <td>4</td>\n",
       "    </tr>\n",
       "    <tr>\n",
       "      <th>273</th>\n",
       "      <td>mute</td>\n",
       "      <td>Device</td>\n",
       "      <td>4</td>\n",
       "    </tr>\n",
       "    <tr>\n",
       "      <th>274</th>\n",
       "      <td>mute the microphone</td>\n",
       "      <td>Device</td>\n",
       "      <td>4</td>\n",
       "    </tr>\n",
       "    <tr>\n",
       "      <th>275</th>\n",
       "      <td>mute the sound</td>\n",
       "      <td>Device</td>\n",
       "      <td>4</td>\n",
       "    </tr>\n",
       "    <tr>\n",
       "      <th>294</th>\n",
       "      <td>be in a call and turn off smart camera please start smart camera</td>\n",
       "      <td>Device</td>\n",
       "      <td>4</td>\n",
       "    </tr>\n",
       "    <tr>\n",
       "      <th>295</th>\n",
       "      <td>please turn up volume a little bit</td>\n",
       "      <td>Device</td>\n",
       "      <td>4</td>\n",
       "    </tr>\n",
       "    <tr>\n",
       "      <th>304</th>\n",
       "      <td>softer</td>\n",
       "      <td>Device</td>\n",
       "      <td>4</td>\n",
       "    </tr>\n",
       "    <tr>\n",
       "      <th>306</th>\n",
       "      <td>be in a call and turn off smart camera turn my smart camera on please</td>\n",
       "      <td>Device</td>\n",
       "      <td>4</td>\n",
       "    </tr>\n",
       "    <tr>\n",
       "      <th>307</th>\n",
       "      <td>be in a call turn off camera</td>\n",
       "      <td>Device</td>\n",
       "      <td>4</td>\n",
       "    </tr>\n",
       "    <tr>\n",
       "      <th>309</th>\n",
       "      <td>turn off microphone</td>\n",
       "      <td>Device</td>\n",
       "      <td>4</td>\n",
       "    </tr>\n",
       "    <tr>\n",
       "      <th>310</th>\n",
       "      <td>be in a call turn off smart camera</td>\n",
       "      <td>Device</td>\n",
       "      <td>4</td>\n",
       "    </tr>\n",
       "    <tr>\n",
       "      <th>311</th>\n",
       "      <td>turn off the volume</td>\n",
       "      <td>Device</td>\n",
       "      <td>4</td>\n",
       "    </tr>\n",
       "    <tr>\n",
       "      <th>312</th>\n",
       "      <td>turn on the microphone</td>\n",
       "      <td>Device</td>\n",
       "      <td>4</td>\n",
       "    </tr>\n",
       "    <tr>\n",
       "      <th>315</th>\n",
       "      <td>turn up the volume</td>\n",
       "      <td>Device</td>\n",
       "      <td>4</td>\n",
       "    </tr>\n",
       "    <tr>\n",
       "      <th>316</th>\n",
       "      <td>turn up volume to 9</td>\n",
       "      <td>Device</td>\n",
       "      <td>4</td>\n",
       "    </tr>\n",
       "    <tr>\n",
       "      <th>317</th>\n",
       "      <td>turn volume down to 4</td>\n",
       "      <td>Device</td>\n",
       "      <td>4</td>\n",
       "    </tr>\n",
       "    <tr>\n",
       "      <th>320</th>\n",
       "      <td>what is the volume right now</td>\n",
       "      <td>Device</td>\n",
       "      <td>4</td>\n",
       "    </tr>\n",
       "  </tbody>\n",
       "</table>\n",
       "</div>"
      ],
      "text/plain": [
       "                                                                                                                                            cleaned_text  \\\n",
       "240                                                                                                                                      set volume at 1   \n",
       "241                                                                                                                                      set volume at 5   \n",
       "242                                                                                                                                     set volume at 10   \n",
       "243                                                                                                                                       volume to 100    \n",
       "244                                                                                                                                      mute the volume   \n",
       "246                                                                                                                           as loud as possible please   \n",
       "247                                                                                                                                             be quiet   \n",
       "252                                                                                                                               current volume setting   \n",
       "262  turn on camera expected tts i cant do that yet press the camera or microphone button on your device to enable or disable your camera and microphone   \n",
       "273                                                                                                                                                 mute   \n",
       "274                                                                                                                                  mute the microphone   \n",
       "275                                                                                                                                       mute the sound   \n",
       "294                                                                                     be in a call and turn off smart camera please start smart camera   \n",
       "295                                                                                                                   please turn up volume a little bit   \n",
       "304                                                                                                                                               softer   \n",
       "306                                                                                be in a call and turn off smart camera turn my smart camera on please   \n",
       "307                                                                                                                         be in a call turn off camera   \n",
       "309                                                                                                                                  turn off microphone   \n",
       "310                                                                                                                   be in a call turn off smart camera   \n",
       "311                                                                                                                                  turn off the volume   \n",
       "312                                                                                                                               turn on the microphone   \n",
       "315                                                                                                                                   turn up the volume   \n",
       "316                                                                                                                                  turn up volume to 9   \n",
       "317                                                                                                                                turn volume down to 4   \n",
       "320                                                                                                                         what is the volume right now   \n",
       "\n",
       "      Label  cluster_trf_mpnet  \n",
       "240  Device                  4  \n",
       "241  Device                  4  \n",
       "242  Device                  4  \n",
       "243  Device                  4  \n",
       "244  Device                  4  \n",
       "246  Device                  4  \n",
       "247  Device                  4  \n",
       "252  Device                  4  \n",
       "262  Device                  4  \n",
       "273  Device                  4  \n",
       "274  Device                  4  \n",
       "275  Device                  4  \n",
       "294  Device                  4  \n",
       "295  Device                  4  \n",
       "304  Device                  4  \n",
       "306  Device                  4  \n",
       "307  Device                  4  \n",
       "309  Device                  4  \n",
       "310  Device                  4  \n",
       "311  Device                  4  \n",
       "312  Device                  4  \n",
       "315  Device                  4  \n",
       "316  Device                  4  \n",
       "317  Device                  4  \n",
       "320  Device                  4  "
      ]
     },
     "execution_count": 18,
     "metadata": {},
     "output_type": "execute_result"
    }
   ],
   "source": [
    "pd.set_option('display.max_rows', 500)\n",
    "data[data['cluster_trf_mpnet']==4][['cleaned_text','Label','cluster_trf_mpnet']]"
   ]
  },
  {
   "cell_type": "markdown",
   "id": "7e912cbc-586c-44d7-bf82-9e3378d98e2d",
   "metadata": {},
   "source": [
    "### Clustering by using KMeans\n"
   ]
  },
  {
   "cell_type": "code",
   "execution_count": 26,
   "id": "a4ddfac1-1b10-4b98-88ad-dbe20205ace2",
   "metadata": {},
   "outputs": [
    {
     "name": "stdout",
     "output_type": "stream",
     "text": [
      "For n_clusters=2, the silhouette score is 0.07903099060058594\n",
      "For n_clusters=3, the silhouette score is 0.10498107224702835\n",
      "For n_clusters=4, the silhouette score is 0.1327100545167923\n",
      "For n_clusters=5, the silhouette score is 0.15005843341350555\n",
      "For n_clusters=6, the silhouette score is 0.1556781828403473\n",
      "For n_clusters=7, the silhouette score is 0.1626594513654709\n",
      "For n_clusters=8, the silhouette score is 0.16895225644111633\n"
     ]
    }
   ],
   "source": [
    "# silhouette analysis\n",
    "from sklearn.metrics import silhouette_score\n",
    "range_n_clusters = [2, 3, 4, 5, 6, 7, 8]\n",
    "\n",
    "for num_clusters in range_n_clusters:\n",
    "    \n",
    "    # intialise kmeans\n",
    "    kmeans = KMeans(n_clusters=num_clusters, max_iter=50)\n",
    "    kmeans.fit(list(data['embediing_trf_mpnet']))\n",
    "    \n",
    "    cluster_labels = kmeans.labels_\n",
    "    \n",
    "    # silhouette score\n",
    "    silhouette_avg = silhouette_score(list(data['embediing_trf_mpnet']), cluster_labels)\n",
    "    print(\"For n_clusters={0}, the silhouette score is {1}\".format(num_clusters, silhouette_avg))"
   ]
  },
  {
   "cell_type": "code",
   "execution_count": 20,
   "id": "c35f15a4-6b97-46e7-857b-7b8191b2c747",
   "metadata": {},
   "outputs": [
    {
     "name": "stdout",
     "output_type": "stream",
     "text": [
      "{'algorithm': 'auto', 'init': 'k-means++', 'max_iter': 50, 'n_init': 10}\n"
     ]
    }
   ],
   "source": [
    "from sklearn.model_selection import GridSearchCV\n",
    "parameters={\n",
    "            'init' : ['k-means++', 'random'],\n",
    "            'algorithm' : [\"auto\", \"full\", \"elkan\"],\n",
    "            'max_iter' : [50,100,200,300],\n",
    "            'n_init' : [10,20,30]\n",
    "    \n",
    "            }\n",
    "clustering_model = KMeans(n_clusters=num_clusters,n_jobs=-1)\n",
    "grid = GridSearchCV(clustering_model, cv=5, param_grid = parameters, scoring = \n",
    "    silhouette_score)\n",
    "\n",
    "grid.fit(list(data['embediing_trf_mpnet']))\n",
    "print(grid.best_params_)"
   ]
  },
  {
   "cell_type": "code",
   "execution_count": 21,
   "id": "bdc11305-581e-44a2-9b67-3f3f63f1a1f7",
   "metadata": {},
   "outputs": [],
   "source": [
    "# Perform kmean clustering\n",
    "num_clusters = 8\n",
    "clustering_model = KMeans(n_clusters=num_clusters,max_iter=50)\n",
    "clustering_model.fit(list(data['embediing_trf_mpnet']))\n",
    "cluster_assignment = clustering_model.labels_\n",
    "data['k_means_clstr']=cluster_assignment"
   ]
  },
  {
   "cell_type": "code",
   "execution_count": 22,
   "id": "0eb30c8e-b7d5-4641-b911-1024baf04d35",
   "metadata": {},
   "outputs": [
    {
     "data": {
      "text/html": [
       "<div>\n",
       "<style scoped>\n",
       "    .dataframe tbody tr th:only-of-type {\n",
       "        vertical-align: middle;\n",
       "    }\n",
       "\n",
       "    .dataframe tbody tr th {\n",
       "        vertical-align: top;\n",
       "    }\n",
       "\n",
       "    .dataframe thead th {\n",
       "        text-align: right;\n",
       "    }\n",
       "</style>\n",
       "<table border=\"1\" class=\"dataframe\">\n",
       "  <thead>\n",
       "    <tr style=\"text-align: right;\">\n",
       "      <th></th>\n",
       "      <th>Test Case Description</th>\n",
       "      <th>Label</th>\n",
       "      <th>cleaned_text</th>\n",
       "      <th>embediing_trf_mpnet</th>\n",
       "      <th>cluster_trf_mpnet</th>\n",
       "      <th>centroid_trf_mpnet</th>\n",
       "      <th>k_means_clstr</th>\n",
       "    </tr>\n",
       "  </thead>\n",
       "  <tbody>\n",
       "    <tr>\n",
       "      <th>316</th>\n",
       "      <td>Turn up volume to 9</td>\n",
       "      <td>Device</td>\n",
       "      <td>turn up volume to 9</td>\n",
       "      <td>[-0.06546349, -0.04650524, -0.002022576, 0.0023055936, -0.014766618, 0.04150067, -0.04654687, -0.033639163, -0.01371983, 0.038465146, -0.044608146, 0.022142626, -0.055139475, 0.03881683, 0.0076575...</td>\n",
       "      <td>4</td>\n",
       "      <td>[-0.03793397, -0.051016033, -0.020587431, 0.006561008, -0.0077978214, 0.0020498943, -0.0010958912, -0.019221745, -0.029672243, 0.02622617, -0.0330014, -0.0045716735, -0.020657388, 0.03203922, 0.01...</td>\n",
       "      <td>3</td>\n",
       "    </tr>\n",
       "    <tr>\n",
       "      <th>317</th>\n",
       "      <td>turn volume down to 4</td>\n",
       "      <td>Device</td>\n",
       "      <td>turn volume down to 4</td>\n",
       "      <td>[-0.047728084, -0.066309996, -0.027648484, 0.030231949, -0.0029409812, 0.02334556, 0.00046751782, -0.022584934, -0.018242078, 0.04535913, -0.060664576, -0.020175109, -0.046440218, 0.014350965, -0....</td>\n",
       "      <td>4</td>\n",
       "      <td>[-0.03793397, -0.051016033, -0.020587431, 0.006561008, -0.0077978214, 0.0020498943, -0.0010958912, -0.019221745, -0.029672243, 0.02622617, -0.0330014, -0.0045716735, -0.020657388, 0.03203922, 0.01...</td>\n",
       "      <td>3</td>\n",
       "    </tr>\n",
       "    <tr>\n",
       "      <th>318</th>\n",
       "      <td>unmute</td>\n",
       "      <td>Device</td>\n",
       "      <td>unmute</td>\n",
       "      <td>[-0.05403915, 0.05417607, -0.0012664514, 0.0048783696, 0.04002082, 0.046116263, 0.033999685, -0.038550243, 0.003778136, -0.0017759472, -0.02155341, 0.10827073, -0.038251445, -0.01965551, -0.059223...</td>\n",
       "      <td>6</td>\n",
       "      <td>[-0.03255415, -0.0073243515, 0.0004747579, 0.0044051227, -0.0071208556, 0.009858321, 0.012968528, 0.0020055831, 0.01951021, -0.01996186, -0.0061234827, 0.010095138, -0.007681971, 0.04870421, 0.009...</td>\n",
       "      <td>6</td>\n",
       "    </tr>\n",
       "    <tr>\n",
       "      <th>319</th>\n",
       "      <td>what is the brightness</td>\n",
       "      <td>Device</td>\n",
       "      <td>what is the brightness</td>\n",
       "      <td>[-0.021882884, -0.12531394, -0.028111342, 0.00878412, -0.051958833, -0.0042661587, -0.022641724, 0.004501706, -0.025805, 0.020092962, -0.019602308, 0.011863918, 0.011217792, 0.0336818, -0.00228472...</td>\n",
       "      <td>1</td>\n",
       "      <td>[-0.040460505, -0.06364606, -0.041045163, 0.0015982331, -0.026796222, -0.0053953985, 9.459641e-05, 0.047449563, -0.026195742, 0.04105583, -0.018163268, 0.011561044, -0.0038872238, 0.039292816, 0.0...</td>\n",
       "      <td>0</td>\n",
       "    </tr>\n",
       "    <tr>\n",
       "      <th>320</th>\n",
       "      <td>what is the volume right now</td>\n",
       "      <td>Device</td>\n",
       "      <td>what is the volume right now</td>\n",
       "      <td>[-0.061269805, -0.11497963, -0.0065325606, -0.015792467, -0.050293144, -0.019582137, -0.021793386, -0.036503952, -0.0690722, 0.050634254, -0.050535783, -0.028605863, -0.015487266, 0.074943565, -0....</td>\n",
       "      <td>4</td>\n",
       "      <td>[-0.03793397, -0.051016033, -0.020587431, 0.006561008, -0.0077978214, 0.0020498943, -0.0010958912, -0.019221745, -0.029672243, 0.02622617, -0.0330014, -0.0045716735, -0.020657388, 0.03203922, 0.01...</td>\n",
       "      <td>3</td>\n",
       "    </tr>\n",
       "  </tbody>\n",
       "</table>\n",
       "</div>"
      ],
      "text/plain": [
       "            Test Case Description   Label                  cleaned_text  \\\n",
       "316           Turn up volume to 9  Device           turn up volume to 9   \n",
       "317         turn volume down to 4  Device         turn volume down to 4   \n",
       "318                        unmute  Device                        unmute   \n",
       "319        what is the brightness  Device        what is the brightness   \n",
       "320  what is the volume right now  Device  what is the volume right now   \n",
       "\n",
       "                                                                                                                                                                                         embediing_trf_mpnet  \\\n",
       "316  [-0.06546349, -0.04650524, -0.002022576, 0.0023055936, -0.014766618, 0.04150067, -0.04654687, -0.033639163, -0.01371983, 0.038465146, -0.044608146, 0.022142626, -0.055139475, 0.03881683, 0.0076575...   \n",
       "317  [-0.047728084, -0.066309996, -0.027648484, 0.030231949, -0.0029409812, 0.02334556, 0.00046751782, -0.022584934, -0.018242078, 0.04535913, -0.060664576, -0.020175109, -0.046440218, 0.014350965, -0....   \n",
       "318  [-0.05403915, 0.05417607, -0.0012664514, 0.0048783696, 0.04002082, 0.046116263, 0.033999685, -0.038550243, 0.003778136, -0.0017759472, -0.02155341, 0.10827073, -0.038251445, -0.01965551, -0.059223...   \n",
       "319  [-0.021882884, -0.12531394, -0.028111342, 0.00878412, -0.051958833, -0.0042661587, -0.022641724, 0.004501706, -0.025805, 0.020092962, -0.019602308, 0.011863918, 0.011217792, 0.0336818, -0.00228472...   \n",
       "320  [-0.061269805, -0.11497963, -0.0065325606, -0.015792467, -0.050293144, -0.019582137, -0.021793386, -0.036503952, -0.0690722, 0.050634254, -0.050535783, -0.028605863, -0.015487266, 0.074943565, -0....   \n",
       "\n",
       "     cluster_trf_mpnet  \\\n",
       "316                  4   \n",
       "317                  4   \n",
       "318                  6   \n",
       "319                  1   \n",
       "320                  4   \n",
       "\n",
       "                                                                                                                                                                                          centroid_trf_mpnet  \\\n",
       "316  [-0.03793397, -0.051016033, -0.020587431, 0.006561008, -0.0077978214, 0.0020498943, -0.0010958912, -0.019221745, -0.029672243, 0.02622617, -0.0330014, -0.0045716735, -0.020657388, 0.03203922, 0.01...   \n",
       "317  [-0.03793397, -0.051016033, -0.020587431, 0.006561008, -0.0077978214, 0.0020498943, -0.0010958912, -0.019221745, -0.029672243, 0.02622617, -0.0330014, -0.0045716735, -0.020657388, 0.03203922, 0.01...   \n",
       "318  [-0.03255415, -0.0073243515, 0.0004747579, 0.0044051227, -0.0071208556, 0.009858321, 0.012968528, 0.0020055831, 0.01951021, -0.01996186, -0.0061234827, 0.010095138, -0.007681971, 0.04870421, 0.009...   \n",
       "319  [-0.040460505, -0.06364606, -0.041045163, 0.0015982331, -0.026796222, -0.0053953985, 9.459641e-05, 0.047449563, -0.026195742, 0.04105583, -0.018163268, 0.011561044, -0.0038872238, 0.039292816, 0.0...   \n",
       "320  [-0.03793397, -0.051016033, -0.020587431, 0.006561008, -0.0077978214, 0.0020498943, -0.0010958912, -0.019221745, -0.029672243, 0.02622617, -0.0330014, -0.0045716735, -0.020657388, 0.03203922, 0.01...   \n",
       "\n",
       "     k_means_clstr  \n",
       "316              3  \n",
       "317              3  \n",
       "318              6  \n",
       "319              0  \n",
       "320              3  "
      ]
     },
     "execution_count": 22,
     "metadata": {},
     "output_type": "execute_result"
    }
   ],
   "source": [
    "data.tail()"
   ]
  },
  {
   "cell_type": "code",
   "execution_count": 23,
   "id": "09656ed9-056f-4540-9250-e2ab36c64ad0",
   "metadata": {},
   "outputs": [
    {
     "data": {
      "image/png": "[encoded data removed]",
      "text/plain": [
       "<Figure size 432x288 with 1 Axes>"
      ]
     },
     "metadata": {
      "needs_background": "light"
     },
     "output_type": "display_data"
    }
   ],
   "source": [
    "X = np.array(data['embediing_trf_mpnet'].tolist())\n",
    "\n",
    "model = TSNE(n_components=2, random_state=0)\n",
    "np.set_printoptions(suppress=True)\n",
    "\n",
    "Y=model.fit_transform(X)\n",
    "\n",
    "plt.scatter(Y[:, 0], Y[:, 1], c=cluster_assignment, s=290,alpha=.6)\n",
    "plt.show()"
   ]
  },
  {
   "cell_type": "code",
   "execution_count": 24,
   "id": "fd8390a1-50a4-4c88-bf39-b072f8ad6d51",
   "metadata": {},
   "outputs": [
    {
     "data": {
      "image/png": "[encoded data removed]",
      "text/plain": [
       "<Figure size 483.875x432 with 1 Axes>"
      ]
     },
     "metadata": {
      "needs_background": "light"
     },
     "output_type": "display_data"
    }
   ],
   "source": [
    "tnse_data=np.vstack((Y.T, cluster_assignment)).T\n",
    "tsne_df=pd.DataFrame(data=tnse_data, columns=('Dim1','Dim2','label'))\n",
    "\n",
    "sns.FacetGrid(tsne_df, hue=\"label\", size=6).map(plt.scatter, 'Dim1', 'Dim2').add_legend()\n",
    "plt.show()"
   ]
  },
  {
   "cell_type": "code",
   "execution_count": 25,
   "id": "895b69c9-9f5a-432d-bbfd-21ab20094fb5",
   "metadata": {},
   "outputs": [
    {
     "name": "stdout",
     "output_type": "stream",
     "text": [
      "Device       101\n",
      "Timer         47\n",
      "Calling       43\n",
      "Weather       35\n",
      "Alarm         28\n",
      "Time          26\n",
      "Corona        25\n",
      "Integrity     16\n",
      "Name: Label, dtype: int64\n",
      "6    51\n",
      "1    50\n",
      "2    48\n",
      "0    45\n",
      "4    39\n",
      "5    39\n",
      "3    28\n",
      "7    21\n",
      "Name: k_means_clstr, dtype: int64\n"
     ]
    }
   ],
   "source": [
    "print(data['Label'].value_counts())\n",
    "print(data['k_means_clstr'].value_counts())"
   ]
  },
  {
   "cell_type": "code",
   "execution_count": null,
   "id": "6f78571f-a276-46d9-b088-4b141b99f9bd",
   "metadata": {},
   "outputs": [],
   "source": []
  },
  {
   "cell_type": "code",
   "execution_count": null,
   "id": "5284ec17-8e18-4281-b81b-66417329cf21",
   "metadata": {},
   "outputs": [],
   "source": []
  }
 ],
 "metadata": {
  "kernelspec": {
   "display_name": "Python 3 (ipykernel)",
   "language": "python",
   "name": "python3"
  },
  "language_info": {
   "codemirror_mode": {
    "name": "ipython",
    "version": 3
   },
   "file_extension": ".py",
   "mimetype": "text/x-python",
   "name": "python",
   "nbconvert_exporter": "python",
   "pygments_lexer": "ipython3",
   "version": "3.7.10"
  }
 },
 "nbformat": 4,
 "nbformat_minor": 5
}
