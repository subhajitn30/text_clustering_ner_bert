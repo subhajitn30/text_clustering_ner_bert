{
 "cells": [
  {
   "cell_type": "code",
   "execution_count": 2,
   "id": "7e256768-957b-4cf9-9468-82eddbeeeef2",
   "metadata": {},
   "outputs": [],
   "source": [
    "import numpy as np\n",
    "import pandas as pd \n",
    "import re\n",
    "import warnings\n",
    "pd.set_option(\"display.max_colwidth\", 200)\n",
    "warnings.filterwarnings(\"ignore\")\n",
    "# import nltk\n",
    "# import spacy                                       ## pip install -U spacy\n",
    "# from nltk.tokenize.toktok import ToktokTokenizer\n",
    "import seaborn as sns\n",
    "from sklearn.feature_extraction.text import CountVectorizer\n",
    "import matplotlib.pyplot as plt"
   ]
  },
  {
   "cell_type": "code",
   "execution_count": 3,
   "id": "4d06097b-eb3b-4797-9280-edc106b547a9",
   "metadata": {},
   "outputs": [
    {
     "data": {
      "text/html": [
       "<div>\n",
       "<style scoped>\n",
       "    .dataframe tbody tr th:only-of-type {\n",
       "        vertical-align: middle;\n",
       "    }\n",
       "\n",
       "    .dataframe tbody tr th {\n",
       "        vertical-align: top;\n",
       "    }\n",
       "\n",
       "    .dataframe thead th {\n",
       "        text-align: right;\n",
       "    }\n",
       "</style>\n",
       "<table border=\"1\" class=\"dataframe\">\n",
       "  <thead>\n",
       "    <tr style=\"text-align: right;\">\n",
       "      <th></th>\n",
       "      <th>Test Case Description</th>\n",
       "      <th>Label</th>\n",
       "    </tr>\n",
       "  </thead>\n",
       "  <tbody>\n",
       "    <tr>\n",
       "      <th>0</th>\n",
       "      <td>What's the weather like in Chicago?</td>\n",
       "      <td>Weather</td>\n",
       "    </tr>\n",
       "    <tr>\n",
       "      <th>1</th>\n",
       "      <td>What is the forecast in Tampa for tomorrow?</td>\n",
       "      <td>Weather</td>\n",
       "    </tr>\n",
       "    <tr>\n",
       "      <th>2</th>\n",
       "      <td>What is the weather in Oregon today?</td>\n",
       "      <td>Weather</td>\n",
       "    </tr>\n",
       "    <tr>\n",
       "      <th>3</th>\n",
       "      <td>Is it raining in France right now?</td>\n",
       "      <td>Weather</td>\n",
       "    </tr>\n",
       "    <tr>\n",
       "      <th>4</th>\n",
       "      <td>Show me the weather in Mexico for next week.</td>\n",
       "      <td>Weather</td>\n",
       "    </tr>\n",
       "  </tbody>\n",
       "</table>\n",
       "</div>"
      ],
      "text/plain": [
       "                          Test Case Description    Label\n",
       "0           What's the weather like in Chicago?  Weather\n",
       "1   What is the forecast in Tampa for tomorrow?  Weather\n",
       "2          What is the weather in Oregon today?  Weather\n",
       "3            Is it raining in France right now?  Weather\n",
       "4  Show me the weather in Mexico for next week.  Weather"
      ]
     },
     "execution_count": 3,
     "metadata": {},
     "output_type": "execute_result"
    }
   ],
   "source": [
    "data = pd.read_csv('../fbportal_updated.csv')\n",
    "data.head()"
   ]
  },
  {
   "cell_type": "code",
   "execution_count": 4,
   "id": "f85a6e34-b97b-4224-97fa-260dca2120b2",
   "metadata": {},
   "outputs": [],
   "source": [
    "def text_cleaner(text):\n",
    "   \n",
    "    newString = text.lower()\n",
    "    newString = re.sub(r\"pre-conditions: \",\"\",newString)\n",
    "    newString = re.sub(r\"precondition: \",\"\",newString)\n",
    "    newString = re.sub(r\"[^a-zA-Z0-9]+\", ' ', newString)\n",
    "    #newString = remove_stopwords(newString)\n",
    "    return newString"
   ]
  },
  {
   "cell_type": "code",
   "execution_count": 5,
   "id": "fafb84ab-4004-4b78-8d89-8307f934387d",
   "metadata": {},
   "outputs": [],
   "source": [
    "#call the function\n",
    "cleaned_text = []\n",
    "data['Test Case Description']=data['Test Case Description'].astype(str)\n",
    "for t in data['Test Case Description']:\n",
    "    cleaned_text.append(text_cleaner(t))\n",
    "data['cleaned_text']=cleaned_text"
   ]
  },
  {
   "cell_type": "code",
   "execution_count": 6,
   "id": "bc29b616-f5c6-46a5-b5bc-f3833e3b997e",
   "metadata": {},
   "outputs": [],
   "source": [
    "from sentence_transformers import SentenceTransformer\n",
    "\n",
    "model = SentenceTransformer('all-MiniLM-L6-v2')"
   ]
  },
  {
   "cell_type": "code",
   "execution_count": 7,
   "id": "a95767ad-5f06-48e6-aceb-27370d82c95b",
   "metadata": {},
   "outputs": [],
   "source": [
    "def embeddings(data):\n",
    "    sentence_embeddings = model.encode(list(data['cleaned_text']))\n",
    "    return sentence_embeddings\n",
    "embeddings_trs=embeddings(data)"
   ]
  },
  {
   "cell_type": "code",
   "execution_count": 8,
   "id": "6b94019c-77c5-41e6-bc7e-a1f15f2032af",
   "metadata": {},
   "outputs": [],
   "source": [
    "data['embediing_trf']=list(embeddings_trs)"
   ]
  },
  {
   "cell_type": "code",
   "execution_count": 9,
   "id": "734f0e9e-d919-469a-97bc-ba7eb51e3f14",
   "metadata": {},
   "outputs": [
    {
     "data": {
      "text/html": [
       "<div>\n",
       "<style scoped>\n",
       "    .dataframe tbody tr th:only-of-type {\n",
       "        vertical-align: middle;\n",
       "    }\n",
       "\n",
       "    .dataframe tbody tr th {\n",
       "        vertical-align: top;\n",
       "    }\n",
       "\n",
       "    .dataframe thead th {\n",
       "        text-align: right;\n",
       "    }\n",
       "</style>\n",
       "<table border=\"1\" class=\"dataframe\">\n",
       "  <thead>\n",
       "    <tr style=\"text-align: right;\">\n",
       "      <th></th>\n",
       "      <th>Test Case Description</th>\n",
       "      <th>Label</th>\n",
       "      <th>cleaned_text</th>\n",
       "      <th>embediing_trf</th>\n",
       "    </tr>\n",
       "  </thead>\n",
       "  <tbody>\n",
       "    <tr>\n",
       "      <th>0</th>\n",
       "      <td>What's the weather like in Chicago?</td>\n",
       "      <td>Weather</td>\n",
       "      <td>what s the weather like in chicago</td>\n",
       "      <td>[0.007616806, 0.005843046, 0.11240678, 0.050339803, 0.0025280218, 0.05087099, -0.008886891, -0.036157727, -0.08662188, 0.0311569, 0.01335425, -0.052121345, -0.08929149, -0.041871995, -0.033586346,...</td>\n",
       "    </tr>\n",
       "    <tr>\n",
       "      <th>1</th>\n",
       "      <td>What is the forecast in Tampa for tomorrow?</td>\n",
       "      <td>Weather</td>\n",
       "      <td>what is the forecast in tampa for tomorrow</td>\n",
       "      <td>[-0.061214644, -0.036375344, 0.017356947, 0.11064824, 0.034364067, 0.00844421, -0.02982958, 0.049617253, -0.008215632, -0.014838813, -0.05537365, 0.016051913, -0.07240089, 0.04741791, 0.013640383,...</td>\n",
       "    </tr>\n",
       "    <tr>\n",
       "      <th>2</th>\n",
       "      <td>What is the weather in Oregon today?</td>\n",
       "      <td>Weather</td>\n",
       "      <td>what is the weather in oregon today</td>\n",
       "      <td>[-0.009730592, 0.053419113, 0.114213474, 0.08534335, -0.002091682, -0.017286636, 0.0074873674, -0.06525991, -0.013874467, 0.0016921184, -0.036969494, -0.05427648, 0.018393617, -0.028270843, 0.0616...</td>\n",
       "    </tr>\n",
       "    <tr>\n",
       "      <th>3</th>\n",
       "      <td>Is it raining in France right now?</td>\n",
       "      <td>Weather</td>\n",
       "      <td>is it raining in france right now</td>\n",
       "      <td>[0.010006898, -0.03475733, 0.08833386, -0.013573887, 0.11943102, -0.011142135, 0.029939154, -0.078966804, -0.011841778, 0.02961379, -0.06445307, -0.016232042, 0.0030896598, 0.061305318, -0.0309999...</td>\n",
       "    </tr>\n",
       "    <tr>\n",
       "      <th>4</th>\n",
       "      <td>Show me the weather in Mexico for next week.</td>\n",
       "      <td>Weather</td>\n",
       "      <td>show me the weather in mexico for next week</td>\n",
       "      <td>[-0.045031086, 0.05021305, 0.08135207, 0.08382549, 0.07056706, -0.014506235, -0.047058668, -0.00294058, -0.09286142, -0.05570672, -0.048554104, -0.11892631, 0.049603164, 0.03901029, 0.014843174, -...</td>\n",
       "    </tr>\n",
       "  </tbody>\n",
       "</table>\n",
       "</div>"
      ],
      "text/plain": [
       "                          Test Case Description    Label  \\\n",
       "0           What's the weather like in Chicago?  Weather   \n",
       "1   What is the forecast in Tampa for tomorrow?  Weather   \n",
       "2          What is the weather in Oregon today?  Weather   \n",
       "3            Is it raining in France right now?  Weather   \n",
       "4  Show me the weather in Mexico for next week.  Weather   \n",
       "\n",
       "                                   cleaned_text  \\\n",
       "0           what s the weather like in chicago    \n",
       "1   what is the forecast in tampa for tomorrow    \n",
       "2          what is the weather in oregon today    \n",
       "3            is it raining in france right now    \n",
       "4  show me the weather in mexico for next week    \n",
       "\n",
       "                                                                                                                                                                                             embediing_trf  \n",
       "0  [0.007616806, 0.005843046, 0.11240678, 0.050339803, 0.0025280218, 0.05087099, -0.008886891, -0.036157727, -0.08662188, 0.0311569, 0.01335425, -0.052121345, -0.08929149, -0.041871995, -0.033586346,...  \n",
       "1  [-0.061214644, -0.036375344, 0.017356947, 0.11064824, 0.034364067, 0.00844421, -0.02982958, 0.049617253, -0.008215632, -0.014838813, -0.05537365, 0.016051913, -0.07240089, 0.04741791, 0.013640383,...  \n",
       "2  [-0.009730592, 0.053419113, 0.114213474, 0.08534335, -0.002091682, -0.017286636, 0.0074873674, -0.06525991, -0.013874467, 0.0016921184, -0.036969494, -0.05427648, 0.018393617, -0.028270843, 0.0616...  \n",
       "3  [0.010006898, -0.03475733, 0.08833386, -0.013573887, 0.11943102, -0.011142135, 0.029939154, -0.078966804, -0.011841778, 0.02961379, -0.06445307, -0.016232042, 0.0030896598, 0.061305318, -0.0309999...  \n",
       "4  [-0.045031086, 0.05021305, 0.08135207, 0.08382549, 0.07056706, -0.014506235, -0.047058668, -0.00294058, -0.09286142, -0.05570672, -0.048554104, -0.11892631, 0.049603164, 0.03901029, 0.014843174, -...  "
      ]
     },
     "execution_count": 9,
     "metadata": {},
     "output_type": "execute_result"
    }
   ],
   "source": [
    "data.head()"
   ]
  },
  {
   "cell_type": "code",
   "execution_count": 10,
   "id": "38aa316d-40b1-4ddc-afaa-bd7bdde2c2c0",
   "metadata": {},
   "outputs": [
    {
     "data": {
      "text/plain": [
       "Device       101\n",
       "Timer         47\n",
       "Calling       43\n",
       "Weather       35\n",
       "Alarm         28\n",
       "Time          26\n",
       "Corona        21\n",
       "Integrity     16\n",
       "Name: Label, dtype: int64"
      ]
     },
     "execution_count": 10,
     "metadata": {},
     "output_type": "execute_result"
    }
   ],
   "source": [
    "data['Label'].value_counts()"
   ]
  },
  {
   "cell_type": "code",
   "execution_count": 11,
   "id": "7e5eae27-b411-4c02-97d2-c175a1add79a",
   "metadata": {},
   "outputs": [
    {
     "data": {
      "text/plain": [
       "(317, 44)"
      ]
     },
     "execution_count": 11,
     "metadata": {},
     "output_type": "execute_result"
    }
   ],
   "source": [
    "\n",
    "from sklearn.feature_extraction.text import TfidfVectorizer\n",
    "\n",
    "tfidf = TfidfVectorizer(sublinear_tf=True, min_df=5, norm='l2', encoding='latin-1', ngram_range=(1, 2), stop_words='english')\n",
    "\n",
    "features = tfidf.fit_transform(data.cleaned_text).toarray()\n",
    "labels = data.Label\n",
    "features.shape\n",
    "\n",
    "\n"
   ]
  },
  {
   "cell_type": "code",
   "execution_count": 12,
   "id": "02890233-fdea-4d05-9d03-bc83351457e4",
   "metadata": {},
   "outputs": [
    {
     "ename": "TypeError",
     "evalue": "unhashable type: 'Series'",
     "output_type": "error",
     "traceback": [
      "\u001b[1;31m---------------------------------------------------------------------------\u001b[0m",
      "\u001b[1;31mTypeError\u001b[0m                                 Traceback (most recent call last)",
      "\u001b[1;32m~\\AppData\\Local\\Temp/ipykernel_16252/1090374179.py\u001b[0m in \u001b[0;36m<module>\u001b[1;34m\u001b[0m\n\u001b[0;32m      2\u001b[0m \u001b[1;32mimport\u001b[0m \u001b[0mnumpy\u001b[0m \u001b[1;32mas\u001b[0m \u001b[0mnp\u001b[0m\u001b[1;33m\u001b[0m\u001b[1;33m\u001b[0m\u001b[0m\n\u001b[0;32m      3\u001b[0m \u001b[0mindex\u001b[0m\u001b[1;33m=\u001b[0m \u001b[0mdata\u001b[0m\u001b[1;33m.\u001b[0m\u001b[0mindex\u001b[0m\u001b[1;33m\u001b[0m\u001b[1;33m\u001b[0m\u001b[0m\n\u001b[1;32m----> 4\u001b[1;33m \u001b[0mcategory_id_df\u001b[0m \u001b[1;33m=\u001b[0m \u001b[0mdata\u001b[0m\u001b[1;33m[\u001b[0m\u001b[1;33m[\u001b[0m\u001b[1;34m'Label'\u001b[0m\u001b[1;33m,\u001b[0m \u001b[0mpd\u001b[0m\u001b[1;33m.\u001b[0m\u001b[0mSeries\u001b[0m\u001b[1;33m(\u001b[0m\u001b[0mindex\u001b[0m\u001b[1;33m.\u001b[0m\u001b[0mvalues\u001b[0m\u001b[1;33m)\u001b[0m\u001b[1;33m]\u001b[0m\u001b[1;33m]\u001b[0m\u001b[1;33m.\u001b[0m\u001b[0mdrop_duplicates\u001b[0m\u001b[1;33m(\u001b[0m\u001b[1;33m)\u001b[0m\u001b[1;33m.\u001b[0m\u001b[0msort_values\u001b[0m\u001b[1;33m(\u001b[0m\u001b[1;34m'Label'\u001b[0m\u001b[1;33m)\u001b[0m\u001b[1;33m\u001b[0m\u001b[1;33m\u001b[0m\u001b[0m\n\u001b[0m\u001b[0;32m      5\u001b[0m \u001b[0mcategory_to_id\u001b[0m \u001b[1;33m=\u001b[0m \u001b[0mdict\u001b[0m\u001b[1;33m(\u001b[0m\u001b[0mcategory_id_df\u001b[0m\u001b[1;33m.\u001b[0m\u001b[0mvalues\u001b[0m\u001b[1;33m)\u001b[0m\u001b[1;33m\u001b[0m\u001b[1;33m\u001b[0m\u001b[0m\n\u001b[0;32m      6\u001b[0m \u001b[1;33m\u001b[0m\u001b[0m\n",
      "\u001b[1;32m~\\Anaconda3\\envs\\txtsum\\lib\\site-packages\\pandas\\core\\frame.py\u001b[0m in \u001b[0;36m__getitem__\u001b[1;34m(self, key)\u001b[0m\n\u001b[0;32m   3459\u001b[0m             \u001b[1;32mif\u001b[0m \u001b[0mis_iterator\u001b[0m\u001b[1;33m(\u001b[0m\u001b[0mkey\u001b[0m\u001b[1;33m)\u001b[0m\u001b[1;33m:\u001b[0m\u001b[1;33m\u001b[0m\u001b[1;33m\u001b[0m\u001b[0m\n\u001b[0;32m   3460\u001b[0m                 \u001b[0mkey\u001b[0m \u001b[1;33m=\u001b[0m \u001b[0mlist\u001b[0m\u001b[1;33m(\u001b[0m\u001b[0mkey\u001b[0m\u001b[1;33m)\u001b[0m\u001b[1;33m\u001b[0m\u001b[1;33m\u001b[0m\u001b[0m\n\u001b[1;32m-> 3461\u001b[1;33m             \u001b[0mindexer\u001b[0m \u001b[1;33m=\u001b[0m \u001b[0mself\u001b[0m\u001b[1;33m.\u001b[0m\u001b[0mloc\u001b[0m\u001b[1;33m.\u001b[0m\u001b[0m_get_listlike_indexer\u001b[0m\u001b[1;33m(\u001b[0m\u001b[0mkey\u001b[0m\u001b[1;33m,\u001b[0m \u001b[0maxis\u001b[0m\u001b[1;33m=\u001b[0m\u001b[1;36m1\u001b[0m\u001b[1;33m)\u001b[0m\u001b[1;33m[\u001b[0m\u001b[1;36m1\u001b[0m\u001b[1;33m]\u001b[0m\u001b[1;33m\u001b[0m\u001b[1;33m\u001b[0m\u001b[0m\n\u001b[0m\u001b[0;32m   3462\u001b[0m \u001b[1;33m\u001b[0m\u001b[0m\n\u001b[0;32m   3463\u001b[0m         \u001b[1;31m# take() does not accept boolean indexers\u001b[0m\u001b[1;33m\u001b[0m\u001b[1;33m\u001b[0m\u001b[1;33m\u001b[0m\u001b[0m\n",
      "\u001b[1;32m~\\Anaconda3\\envs\\txtsum\\lib\\site-packages\\pandas\\core\\indexing.py\u001b[0m in \u001b[0;36m_get_listlike_indexer\u001b[1;34m(self, key, axis)\u001b[0m\n\u001b[0;32m   1307\u001b[0m \u001b[1;33m\u001b[0m\u001b[0m\n\u001b[0;32m   1308\u001b[0m         \u001b[1;32mif\u001b[0m \u001b[0max\u001b[0m\u001b[1;33m.\u001b[0m\u001b[0m_index_as_unique\u001b[0m\u001b[1;33m:\u001b[0m\u001b[1;33m\u001b[0m\u001b[1;33m\u001b[0m\u001b[0m\n\u001b[1;32m-> 1309\u001b[1;33m             \u001b[0mindexer\u001b[0m \u001b[1;33m=\u001b[0m \u001b[0max\u001b[0m\u001b[1;33m.\u001b[0m\u001b[0mget_indexer_for\u001b[0m\u001b[1;33m(\u001b[0m\u001b[0mkeyarr\u001b[0m\u001b[1;33m)\u001b[0m\u001b[1;33m\u001b[0m\u001b[1;33m\u001b[0m\u001b[0m\n\u001b[0m\u001b[0;32m   1310\u001b[0m             \u001b[0mkeyarr\u001b[0m \u001b[1;33m=\u001b[0m \u001b[0max\u001b[0m\u001b[1;33m.\u001b[0m\u001b[0mreindex\u001b[0m\u001b[1;33m(\u001b[0m\u001b[0mkeyarr\u001b[0m\u001b[1;33m)\u001b[0m\u001b[1;33m[\u001b[0m\u001b[1;36m0\u001b[0m\u001b[1;33m]\u001b[0m\u001b[1;33m\u001b[0m\u001b[1;33m\u001b[0m\u001b[0m\n\u001b[0;32m   1311\u001b[0m         \u001b[1;32melse\u001b[0m\u001b[1;33m:\u001b[0m\u001b[1;33m\u001b[0m\u001b[1;33m\u001b[0m\u001b[0m\n",
      "\u001b[1;32m~\\Anaconda3\\envs\\txtsum\\lib\\site-packages\\pandas\\core\\indexes\\base.py\u001b[0m in \u001b[0;36mget_indexer_for\u001b[1;34m(self, target, **kwargs)\u001b[0m\n\u001b[0;32m   5274\u001b[0m         \"\"\"\n\u001b[0;32m   5275\u001b[0m         \u001b[1;32mif\u001b[0m \u001b[0mself\u001b[0m\u001b[1;33m.\u001b[0m\u001b[0m_index_as_unique\u001b[0m\u001b[1;33m:\u001b[0m\u001b[1;33m\u001b[0m\u001b[1;33m\u001b[0m\u001b[0m\n\u001b[1;32m-> 5276\u001b[1;33m             \u001b[1;32mreturn\u001b[0m \u001b[0mself\u001b[0m\u001b[1;33m.\u001b[0m\u001b[0mget_indexer\u001b[0m\u001b[1;33m(\u001b[0m\u001b[0mtarget\u001b[0m\u001b[1;33m,\u001b[0m \u001b[1;33m**\u001b[0m\u001b[0mkwargs\u001b[0m\u001b[1;33m)\u001b[0m\u001b[1;33m\u001b[0m\u001b[1;33m\u001b[0m\u001b[0m\n\u001b[0m\u001b[0;32m   5277\u001b[0m         \u001b[0mindexer\u001b[0m\u001b[1;33m,\u001b[0m \u001b[0m_\u001b[0m \u001b[1;33m=\u001b[0m \u001b[0mself\u001b[0m\u001b[1;33m.\u001b[0m\u001b[0mget_indexer_non_unique\u001b[0m\u001b[1;33m(\u001b[0m\u001b[0mtarget\u001b[0m\u001b[1;33m)\u001b[0m\u001b[1;33m\u001b[0m\u001b[1;33m\u001b[0m\u001b[0m\n\u001b[0;32m   5278\u001b[0m         \u001b[1;32mreturn\u001b[0m \u001b[0mindexer\u001b[0m\u001b[1;33m\u001b[0m\u001b[1;33m\u001b[0m\u001b[0m\n",
      "\u001b[1;32m~\\Anaconda3\\envs\\txtsum\\lib\\site-packages\\pandas\\core\\indexes\\base.py\u001b[0m in \u001b[0;36mget_indexer\u001b[1;34m(self, target, method, limit, tolerance)\u001b[0m\n\u001b[0;32m   3484\u001b[0m             )\n\u001b[0;32m   3485\u001b[0m \u001b[1;33m\u001b[0m\u001b[0m\n\u001b[1;32m-> 3486\u001b[1;33m         \u001b[1;32mreturn\u001b[0m \u001b[0mself\u001b[0m\u001b[1;33m.\u001b[0m\u001b[0m_get_indexer\u001b[0m\u001b[1;33m(\u001b[0m\u001b[0mtarget\u001b[0m\u001b[1;33m,\u001b[0m \u001b[0mmethod\u001b[0m\u001b[1;33m,\u001b[0m \u001b[0mlimit\u001b[0m\u001b[1;33m,\u001b[0m \u001b[0mtolerance\u001b[0m\u001b[1;33m)\u001b[0m\u001b[1;33m\u001b[0m\u001b[1;33m\u001b[0m\u001b[0m\n\u001b[0m\u001b[0;32m   3487\u001b[0m \u001b[1;33m\u001b[0m\u001b[0m\n\u001b[0;32m   3488\u001b[0m     def _get_indexer(\n",
      "\u001b[1;32m~\\Anaconda3\\envs\\txtsum\\lib\\site-packages\\pandas\\core\\indexes\\base.py\u001b[0m in \u001b[0;36m_get_indexer\u001b[1;34m(self, target, method, limit, tolerance)\u001b[0m\n\u001b[0;32m   3510\u001b[0m             \u001b[0mindexer\u001b[0m \u001b[1;33m=\u001b[0m \u001b[0mself\u001b[0m\u001b[1;33m.\u001b[0m\u001b[0m_get_nearest_indexer\u001b[0m\u001b[1;33m(\u001b[0m\u001b[0mtarget\u001b[0m\u001b[1;33m,\u001b[0m \u001b[0mlimit\u001b[0m\u001b[1;33m,\u001b[0m \u001b[0mtolerance\u001b[0m\u001b[1;33m)\u001b[0m\u001b[1;33m\u001b[0m\u001b[1;33m\u001b[0m\u001b[0m\n\u001b[0;32m   3511\u001b[0m         \u001b[1;32melse\u001b[0m\u001b[1;33m:\u001b[0m\u001b[1;33m\u001b[0m\u001b[1;33m\u001b[0m\u001b[0m\n\u001b[1;32m-> 3512\u001b[1;33m             \u001b[0mindexer\u001b[0m \u001b[1;33m=\u001b[0m \u001b[0mself\u001b[0m\u001b[1;33m.\u001b[0m\u001b[0m_engine\u001b[0m\u001b[1;33m.\u001b[0m\u001b[0mget_indexer\u001b[0m\u001b[1;33m(\u001b[0m\u001b[0mtarget\u001b[0m\u001b[1;33m.\u001b[0m\u001b[0m_get_engine_target\u001b[0m\u001b[1;33m(\u001b[0m\u001b[1;33m)\u001b[0m\u001b[1;33m)\u001b[0m\u001b[1;33m\u001b[0m\u001b[1;33m\u001b[0m\u001b[0m\n\u001b[0m\u001b[0;32m   3513\u001b[0m \u001b[1;33m\u001b[0m\u001b[0m\n\u001b[0;32m   3514\u001b[0m         \u001b[1;32mreturn\u001b[0m \u001b[0mensure_platform_int\u001b[0m\u001b[1;33m(\u001b[0m\u001b[0mindexer\u001b[0m\u001b[1;33m)\u001b[0m\u001b[1;33m\u001b[0m\u001b[1;33m\u001b[0m\u001b[0m\n",
      "\u001b[1;32m~\\Anaconda3\\envs\\txtsum\\lib\\site-packages\\pandas\\_libs\\index.pyx\u001b[0m in \u001b[0;36mpandas._libs.index.IndexEngine.get_indexer\u001b[1;34m()\u001b[0m\n",
      "\u001b[1;32mpandas\\_libs\\hashtable_class_helper.pxi\u001b[0m in \u001b[0;36mpandas._libs.hashtable.PyObjectHashTable.lookup\u001b[1;34m()\u001b[0m\n",
      "\u001b[1;31mTypeError\u001b[0m: unhashable type: 'Series'"
     ]
    }
   ],
   "source": [
    "from sklearn.feature_selection import chi2\n",
    "import numpy as np\n",
    "index= data.index\n",
    "category_id_df = data[['Label', pd.Series(index.values)]].drop_duplicates().sort_values('Label')\n",
    "category_to_id = dict(category_id_df.values)\n",
    "\n",
    "\n",
    "N = 2\n",
    "for Product, category_id in sorted(category_to_id.items()):\n",
    "    \n",
    "\n",
    "    features_chi2 = chi2(features, labels == category_id)\n",
    "    indices = np.argsort(features_chi2[0])\n",
    "    feature_names = np.array(tfidf.get_feature_names())[indices]\n",
    "    unigrams = [v for v in feature_names if len(v.split(' ')) == 1]\n",
    "    bigrams = [v for v in feature_names if len(v.split(' ')) == 2]\n",
    "    print(\"# '{}':\".format(Product))\n",
    "    print(\"  . Most correlated unigrams:\\n       . {}\".format('\\n       . '.join(unigrams[-N:])))\n",
    "    print(\"  . Most correlated bigrams:\\n       . {}\".format('\\n       . '.join(bigrams[-N:])))"
   ]
  },
  {
   "cell_type": "markdown",
   "id": "c1c5a7f7-c230-498d-8183-3ae73fd7c593",
   "metadata": {},
   "source": [
    "### Multicalss classification prediction by using MultinomialNB and tfidf vectorizer"
   ]
  },
  {
   "cell_type": "code",
   "execution_count": 13,
   "id": "f51f2996-eaa4-4467-8fd4-84013bc16c8d",
   "metadata": {},
   "outputs": [],
   "source": [
    "\n",
    "from sklearn.model_selection import train_test_split\n",
    "from sklearn.feature_extraction.text import CountVectorizer\n",
    "from sklearn.feature_extraction.text import TfidfTransformer\n",
    "from sklearn.naive_bayes import MultinomialNB\n",
    "\n",
    "X_train, X_test, y_train, y_test = train_test_split(data['cleaned_text'], data['Label'], test_size=0.33,random_state = 0)\n",
    "count_vect = CountVectorizer()\n",
    "X_train_counts = count_vect.fit_transform(X_train)\n",
    "tfidf_transformer = TfidfTransformer()\n",
    "X_train_tfidf = tfidf_transformer.fit_transform(X_train_counts)\n",
    "\n",
    "clf_NB = MultinomialNB().fit(X_train_tfidf, y_train)\n",
    "y_pred_NB = clf_NB.predict(count_vect.transform(X_test))"
   ]
  },
  {
   "cell_type": "code",
   "execution_count": 17,
   "id": "7bec8328-1a28-4c96-ac74-7acbeb7bf1e7",
   "metadata": {},
   "outputs": [
    {
     "name": "stdout",
     "output_type": "stream",
     "text": [
      "['Device']\n"
     ]
    }
   ],
   "source": [
    "\n",
    "print(clf_NB.predict(count_vect.transform([\"turn on the microphone\"])))"
   ]
  },
  {
   "cell_type": "code",
   "execution_count": 15,
   "id": "93e3601d-0880-411f-b1f3-8baddf0f7437",
   "metadata": {},
   "outputs": [
    {
     "data": {
      "text/plain": [
       "134                           set a timer for 3\n",
       "250                               dim my screen\n",
       "55                              show all alarms\n",
       "255                                     go home\n",
       "308                      turn on the microphone\n",
       "                         ...                   \n",
       "54                    set snooze for 20 minutes\n",
       "206        what s the latest on the coronavirus\n",
       "284                                open spotify\n",
       "289    please increase the brightness some more\n",
       "223                     darken the screen by 1 \n",
       "Name: cleaned_text, Length: 105, dtype: object"
      ]
     },
     "execution_count": 15,
     "metadata": {},
     "output_type": "execute_result"
    }
   ],
   "source": [
    "X_test"
   ]
  },
  {
   "cell_type": "code",
   "execution_count": 16,
   "id": "672aded6-d527-4b07-9930-4d518712fb0f",
   "metadata": {},
   "outputs": [
    {
     "data": {
      "text/plain": [
       "134     Timer\n",
       "250    Device\n",
       "55      Alarm\n",
       "255    Device\n",
       "308    Device\n",
       "        ...  \n",
       "54      Alarm\n",
       "206    Corona\n",
       "284    Device\n",
       "289    Device\n",
       "223    Device\n",
       "Name: Label, Length: 105, dtype: object"
      ]
     },
     "execution_count": 16,
     "metadata": {},
     "output_type": "execute_result"
    }
   ],
   "source": [
    "y_test"
   ]
  },
  {
   "cell_type": "markdown",
   "id": "c08ffdbd-11c3-4e84-a858-6e8d29c34259",
   "metadata": {},
   "source": [
    "### Model Selection "
   ]
  },
  {
   "cell_type": "code",
   "execution_count": 18,
   "id": "7f223341-b8ae-4fc6-a1e5-867dbee1c250",
   "metadata": {},
   "outputs": [],
   "source": [
    "\n",
    "from sklearn.linear_model import LogisticRegression\n",
    "from sklearn.ensemble import RandomForestClassifier\n",
    "from sklearn.naive_bayes import MultinomialNB\n",
    "from sklearn.svm import LinearSVC\n",
    "\n",
    "from sklearn.model_selection import cross_val_score\n",
    "\n",
    "\n",
    "models = [\n",
    "    RandomForestClassifier(n_estimators=200, max_depth=3, random_state=0),\n",
    "    LinearSVC(),\n",
    "    MultinomialNB(),\n",
    "    LogisticRegression(random_state=0),\n",
    "]\n",
    "CV = 5\n",
    "cv_df = pd.DataFrame(index=range(CV * len(models)))\n",
    "entries = []\n",
    "for model in models:\n",
    "    model_name = model.__class__.__name__\n",
    "    accuracies = cross_val_score(model, features, labels, scoring='accuracy', cv=CV)\n",
    "    for fold_idx, accuracy in enumerate(accuracies):\n",
    "        entries.append((model_name, fold_idx, accuracy))\n",
    "cv_df = pd.DataFrame(entries, columns=['model_name', 'fold_idx', 'accuracy'])"
   ]
  },
  {
   "cell_type": "code",
   "execution_count": 19,
   "id": "c58bca6f-f5be-4c8d-b7d6-5a5fbd200c3e",
   "metadata": {},
   "outputs": [
    {
     "data": {
      "image/png": "[encoded data removed]",
      "text/plain": [
       "<Figure size 432x288 with 1 Axes>"
      ]
     },
     "metadata": {
      "needs_background": "light"
     },
     "output_type": "display_data"
    }
   ],
   "source": [
    "import seaborn as sns\n",
    "sns.boxplot(x='model_name', y='accuracy', data=cv_df)\n",
    "sns.stripplot(x='model_name', y='accuracy', data=cv_df, \n",
    "              size=8, jitter=True, edgecolor=\"gray\", linewidth=2)\n",
    "plt.show()"
   ]
  },
  {
   "cell_type": "code",
   "execution_count": 20,
   "id": "fc9d1bbb-394c-44c9-9e88-e13d7e1989ee",
   "metadata": {},
   "outputs": [
    {
     "data": {
      "image/png": "[encoded data removed]",
      "text/plain": [
       "<Figure size 432x288 with 1 Axes>"
      ]
     },
     "metadata": {
      "needs_background": "light"
     },
     "output_type": "display_data"
    }
   ],
   "source": [
    "#plt.figure(figsize=(20,15))\n",
    "sns.barplot(cv_df.model_name, cv_df.accuracy, alpha=0.8)\n",
    "plt.title(\"Model vs accuracy\", fontsize=20)\n",
    "plt.ylabel('Accuracy', fontsize=20)\n",
    "plt.yticks(fontsize=10)\n",
    "plt.xlabel('Models', fontsize=20)\n",
    "plt.xticks(fontsize=15,rotation=45)\n",
    "plt.show()"
   ]
  },
  {
   "cell_type": "code",
   "execution_count": 21,
   "id": "87665b37-ec3c-4776-a349-dc8bae8db69b",
   "metadata": {},
   "outputs": [
    {
     "data": {
      "text/plain": [
       "model_name\n",
       "LinearSVC                 0.861111\n",
       "LogisticRegression        0.829762\n",
       "MultinomialNB             0.791865\n",
       "RandomForestClassifier    0.580456\n",
       "Name: accuracy, dtype: float64"
      ]
     },
     "execution_count": 21,
     "metadata": {},
     "output_type": "execute_result"
    }
   ],
   "source": [
    "cv_df.groupby('model_name').accuracy.mean()"
   ]
  },
  {
   "cell_type": "markdown",
   "id": "84d7d508-3f92-43c2-88b6-ff3554f3f710",
   "metadata": {},
   "source": [
    "### Visualizing ROC curve for MultinomialNB"
   ]
  },
  {
   "cell_type": "code",
   "execution_count": 31,
   "id": "da674239-f6f9-41f6-bd44-13a4ef6b0457",
   "metadata": {},
   "outputs": [],
   "source": [
    "from yellowbrick.classifier import ROCAUC"
   ]
  },
  {
   "cell_type": "code",
   "execution_count": null,
   "id": "7d50851f-c4cf-4e95-970f-f54b524d75ed",
   "metadata": {},
   "outputs": [],
   "source": [
    "def plot_ROC_curve(model, xtrain, ytrain, xtest, ytest):\n",
    "\n",
    "    # Creating visualization with the readable labels\n",
    "    visualizer = ROCAUC(model, encoder={0: 'functional', \n",
    "                                        1: 'needs repair', \n",
    "                                        2: 'nonfunctional'})\n",
    "                                        \n",
    "    # Fitting to the training data first then scoring with the test data                                    \n",
    "    visualizer.fit(xtrain, ytrain)\n",
    "    visualizer.score(xtest, ytest)\n",
    "    visualizer.show()\n",
    "    \n",
    "    return visualizer"
   ]
  },
  {
   "cell_type": "code",
   "execution_count": null,
   "id": "660b64d8-814a-442d-a9f1-9850676699f9",
   "metadata": {},
   "outputs": [],
   "source": []
  },
  {
   "cell_type": "code",
   "execution_count": null,
   "id": "afcb8e4d-98ba-410a-ade4-8f0d83a9343a",
   "metadata": {},
   "outputs": [],
   "source": []
  },
  {
   "cell_type": "markdown",
   "id": "c745192d-20d8-4b8e-a7f9-c3dbbec4bc35",
   "metadata": {},
   "source": [
    "### Applying LinearSVC model, since it is giving good accuracy score."
   ]
  },
  {
   "cell_type": "code",
   "execution_count": 37,
   "id": "524e9bef-0599-46b1-8643-5b9b0eeb9137",
   "metadata": {},
   "outputs": [
    {
     "data": {
      "text/plain": [
       "array([0.        , 0.        , 0.        , 0.        , 0.        ,\n",
       "       0.        , 0.        , 0.        , 0.        , 0.        ,\n",
       "       0.        , 0.        , 0.        , 0.        , 0.        ,\n",
       "       0.        , 0.        , 0.        , 0.75041243, 0.        ,\n",
       "       0.        , 0.        , 0.        , 0.        , 0.        ,\n",
       "       0.        , 0.        , 0.        , 0.        , 0.        ,\n",
       "       0.        , 0.        , 0.        , 0.        , 0.        ,\n",
       "       0.        , 0.        , 0.        , 0.        , 0.        ,\n",
       "       0.        , 0.        , 0.        , 0.66096988, 0.        ])"
      ]
     },
     "execution_count": 37,
     "metadata": {},
     "output_type": "execute_result"
    }
   ],
   "source": [
    "features[0]"
   ]
  },
  {
   "cell_type": "code",
   "execution_count": 25,
   "id": "e83f89f6-c755-4daa-b751-e5158aa35268",
   "metadata": {},
   "outputs": [
    {
     "name": "stdout",
     "output_type": "stream",
     "text": [
      "[[ 5  0  0  3  0  0  1  0]\n",
      " [ 0 12  0  0  0  0  0  0]\n",
      " [ 0  0  7  0  0  0  0  0]\n",
      " [ 0  0  0 33  0  0  0  1]\n",
      " [ 0  1  0  0  5  0  0  0]\n",
      " [ 0  0  0  0  0  6  0  1]\n",
      " [ 0  0  0  0  0  0 16  0]\n",
      " [ 0  0  0  0  0  0  0 14]]\n"
     ]
    }
   ],
   "source": [
    "model_svc = LinearSVC()\n",
    "#X_train, X_test, y_train, y_test, indices_train, indices_test = train_test_split(X_train_tfidf, labels, df.index, test_size=0.33, random_state=0)\n",
    "model_svc.fit(X_train_tfidf, y_train)\n",
    "\n",
    "y_pred_svc = model_svc.predict(count_vect.transform(X_test))\n",
    "from sklearn.metrics import confusion_matrix,accuracy_score,f1_score,roc_auc_score\n",
    "conf_mat = confusion_matrix(y_test, y_pred_svc)\n",
    "# fig, ax = plt.subplots(figsize=(10,10))\n",
    "# sns.heatmap(conf_mat, annot=True, fmt='d',\n",
    "#             xticklabels=data.Label.values, yticklabels=data.Label.values)\n",
    "# plt.ylabel('Actual')\n",
    "# plt.xlabel('Predicted')\n",
    "# plt.show()\n",
    "print(conf_mat)\n"
   ]
  },
  {
   "cell_type": "code",
   "execution_count": 70,
   "id": "078294a9-d0ee-4bac-a51b-43ff28d3b091",
   "metadata": {},
   "outputs": [
    {
     "data": {
      "text/plain": [
       "181      make a call with robinson blake\n",
       "258                get screen brightness\n",
       "15     whats the weather in minneapolis \n",
       "65                                  time\n",
       "216                     coronavirus news\n",
       "63            how late is it in istanbul\n",
       "240                      set volume at 1\n",
       "228           bring up brightness by 20 \n",
       "167                        call ross gay\n",
       "156                             call ira\n",
       "Name: cleaned_text, dtype: object"
      ]
     },
     "execution_count": 70,
     "metadata": {},
     "output_type": "execute_result"
    }
   ],
   "source": [
    "X_test[0:10]"
   ]
  },
  {
   "cell_type": "code",
   "execution_count": 69,
   "id": "5d17ff53-960d-4bae-9748-620e9d0f8190",
   "metadata": {},
   "outputs": [
    {
     "data": {
      "text/plain": [
       "array(['Calling', 'Device', 'Weather', 'Time', 'Corona', 'Weather',\n",
       "       'Device', 'Device', 'Calling', 'Calling'], dtype=object)"
      ]
     },
     "execution_count": 69,
     "metadata": {},
     "output_type": "execute_result"
    }
   ],
   "source": [
    "y_pred[0:10]"
   ]
  },
  {
   "cell_type": "code",
   "execution_count": 68,
   "id": "30031884-42d0-42f2-8a8b-3a482f6a988d",
   "metadata": {},
   "outputs": [
    {
     "data": {
      "text/plain": [
       "181    Calling\n",
       "258     Device\n",
       "15     Weather\n",
       "65        Time\n",
       "216     Corona\n",
       "63        Time\n",
       "240     Device\n",
       "228     Device\n",
       "167    Calling\n",
       "156    Calling\n",
       "Name: Label, dtype: object"
      ]
     },
     "execution_count": 68,
     "metadata": {},
     "output_type": "execute_result"
    }
   ],
   "source": [
    "y_test[0:10]"
   ]
  },
  {
   "cell_type": "code",
   "execution_count": 71,
   "id": "e29152ba-cacc-43cc-a3b8-877dc6450c7a",
   "metadata": {},
   "outputs": [
    {
     "name": "stdout",
     "output_type": "stream",
     "text": [
      "['Weather']\n"
     ]
    }
   ],
   "source": [
    "print(model.predict(count_vect.transform([\"how late is it in istanbul\"])))"
   ]
  },
  {
   "cell_type": "code",
   "execution_count": 72,
   "id": "d7db4d0a-1970-43b4-a16d-aead63029b38",
   "metadata": {},
   "outputs": [
    {
     "name": "stdout",
     "output_type": "stream",
     "text": [
      "['Time']\n"
     ]
    }
   ],
   "source": [
    "print(clf.predict(count_vect.transform([\"how late is it in istanbul\"])))"
   ]
  },
  {
   "cell_type": "markdown",
   "id": "06b9844c-1c64-4e06-9708-6690f91a5c65",
   "metadata": {},
   "source": [
    "### Saving the model"
   ]
  },
  {
   "cell_type": "code",
   "execution_count": 77,
   "id": "c83c801c-e2d9-41b7-80e6-30383193c50f",
   "metadata": {},
   "outputs": [],
   "source": [
    "import pickle\n",
    "import joblib"
   ]
  },
  {
   "cell_type": "code",
   "execution_count": 81,
   "id": "619812fd-beac-45e2-8289-8e455fa019dd",
   "metadata": {},
   "outputs": [
    {
     "data": {
      "text/plain": [
       "['Classification/model/nb_model.pkl']"
      ]
     },
     "execution_count": 81,
     "metadata": {},
     "output_type": "execute_result"
    }
   ],
   "source": [
    "joblib.dump(clf, 'Classification/model/nb_model.pkl')"
   ]
  },
  {
   "cell_type": "code",
   "execution_count": 82,
   "id": "cd5d1fb6-dfc4-4500-b257-0538e17493e0",
   "metadata": {},
   "outputs": [
    {
     "name": "stdout",
     "output_type": "stream",
     "text": [
      "['Time']\n"
     ]
    }
   ],
   "source": [
    "nb_clf = joblib.load('Classification/model/nb_model.pkl')\n",
    " \n",
    "# Use the loaded model to make predictions\n",
    "print(nb_clf.predict(count_vect.transform([\"how late is it in istanbul\"])))"
   ]
  },
  {
   "cell_type": "markdown",
   "id": "d640ed9a-7cf2-40fa-9f94-5866a4c199e4",
   "metadata": {},
   "source": [
    "### Testing the model"
   ]
  },
  {
   "cell_type": "code",
   "execution_count": 28,
   "id": "7b9ad489-4a07-49f5-adfe-4088f127ec16",
   "metadata": {},
   "outputs": [],
   "source": [
    "def Missclassification(X_test,y_test,y_pred):\n",
    "    df = pd.DataFrame(X_test)\n",
    "    df['Actual_label'] = y_test\n",
    "    df['Predicted_label'] = y_pred\n",
    "    df_val=pd.DataFrame(df['Actual_label'].value_counts())\n",
    "    print(df['Actual_label'].value_counts())\n",
    "    print(df['Predicted_label'].value_counts())\n",
    "    df_val['Predicted_label_count'] = df['Predicted_label'].value_counts()\n",
    "    df_val.rename(columns = {'Actual_label':'Actual_label_count'}, inplace = True)\n",
    "    df_val['Misclassified'] = abs(df_val['Actual_label_count']-df_val['Predicted_label_count'])\n",
    "    return df_val.sort_index()"
   ]
  },
  {
   "cell_type": "code",
   "execution_count": 29,
   "id": "fae9300d-9db2-48cc-bf02-978ddcc256c3",
   "metadata": {},
   "outputs": [
    {
     "name": "stdout",
     "output_type": "stream",
     "text": [
      "Device       34\n",
      "Timer        16\n",
      "Weather      14\n",
      "Calling      12\n",
      "Alarm         9\n",
      "Time          7\n",
      "Corona        7\n",
      "Integrity     6\n",
      "Name: Actual_label, dtype: int64\n",
      "Device       36\n",
      "Timer        17\n",
      "Weather      16\n",
      "Calling      13\n",
      "Corona        7\n",
      "Time          6\n",
      "Integrity     5\n",
      "Alarm         5\n",
      "Name: Predicted_label, dtype: int64\n"
     ]
    },
    {
     "data": {
      "text/html": [
       "<div>\n",
       "<style scoped>\n",
       "    .dataframe tbody tr th:only-of-type {\n",
       "        vertical-align: middle;\n",
       "    }\n",
       "\n",
       "    .dataframe tbody tr th {\n",
       "        vertical-align: top;\n",
       "    }\n",
       "\n",
       "    .dataframe thead th {\n",
       "        text-align: right;\n",
       "    }\n",
       "</style>\n",
       "<table border=\"1\" class=\"dataframe\">\n",
       "  <thead>\n",
       "    <tr style=\"text-align: right;\">\n",
       "      <th></th>\n",
       "      <th>Actual_label_count</th>\n",
       "      <th>Predicted_label_count</th>\n",
       "      <th>Misclassified</th>\n",
       "    </tr>\n",
       "  </thead>\n",
       "  <tbody>\n",
       "    <tr>\n",
       "      <th>Alarm</th>\n",
       "      <td>9</td>\n",
       "      <td>5</td>\n",
       "      <td>4</td>\n",
       "    </tr>\n",
       "    <tr>\n",
       "      <th>Calling</th>\n",
       "      <td>12</td>\n",
       "      <td>13</td>\n",
       "      <td>1</td>\n",
       "    </tr>\n",
       "    <tr>\n",
       "      <th>Corona</th>\n",
       "      <td>7</td>\n",
       "      <td>7</td>\n",
       "      <td>0</td>\n",
       "    </tr>\n",
       "    <tr>\n",
       "      <th>Device</th>\n",
       "      <td>34</td>\n",
       "      <td>36</td>\n",
       "      <td>2</td>\n",
       "    </tr>\n",
       "    <tr>\n",
       "      <th>Integrity</th>\n",
       "      <td>6</td>\n",
       "      <td>5</td>\n",
       "      <td>1</td>\n",
       "    </tr>\n",
       "    <tr>\n",
       "      <th>Time</th>\n",
       "      <td>7</td>\n",
       "      <td>6</td>\n",
       "      <td>1</td>\n",
       "    </tr>\n",
       "    <tr>\n",
       "      <th>Timer</th>\n",
       "      <td>16</td>\n",
       "      <td>17</td>\n",
       "      <td>1</td>\n",
       "    </tr>\n",
       "    <tr>\n",
       "      <th>Weather</th>\n",
       "      <td>14</td>\n",
       "      <td>16</td>\n",
       "      <td>2</td>\n",
       "    </tr>\n",
       "  </tbody>\n",
       "</table>\n",
       "</div>"
      ],
      "text/plain": [
       "           Actual_label_count  Predicted_label_count  Misclassified\n",
       "Alarm                       9                      5              4\n",
       "Calling                    12                     13              1\n",
       "Corona                      7                      7              0\n",
       "Device                     34                     36              2\n",
       "Integrity                   6                      5              1\n",
       "Time                        7                      6              1\n",
       "Timer                      16                     17              1\n",
       "Weather                    14                     16              2"
      ]
     },
     "execution_count": 29,
     "metadata": {},
     "output_type": "execute_result"
    }
   ],
   "source": [
    "df_svc= Missclassification(X_test,y_test,y_pred_svc)\n",
    "df_svc"
   ]
  },
  {
   "cell_type": "code",
   "execution_count": 27,
   "id": "f7378abb-1808-4750-9f66-d500a84b4ac1",
   "metadata": {},
   "outputs": [
    {
     "data": {
      "text/html": [
       "<div>\n",
       "<style scoped>\n",
       "    .dataframe tbody tr th:only-of-type {\n",
       "        vertical-align: middle;\n",
       "    }\n",
       "\n",
       "    .dataframe tbody tr th {\n",
       "        vertical-align: top;\n",
       "    }\n",
       "\n",
       "    .dataframe thead th {\n",
       "        text-align: right;\n",
       "    }\n",
       "</style>\n",
       "<table border=\"1\" class=\"dataframe\">\n",
       "  <thead>\n",
       "    <tr style=\"text-align: right;\">\n",
       "      <th></th>\n",
       "      <th>Actual_label_count</th>\n",
       "      <th>Predicted_label_count</th>\n",
       "      <th>Misclassified</th>\n",
       "    </tr>\n",
       "  </thead>\n",
       "  <tbody>\n",
       "    <tr>\n",
       "      <th>Alarm</th>\n",
       "      <td>9</td>\n",
       "      <td>4</td>\n",
       "      <td>5</td>\n",
       "    </tr>\n",
       "    <tr>\n",
       "      <th>Calling</th>\n",
       "      <td>12</td>\n",
       "      <td>13</td>\n",
       "      <td>1</td>\n",
       "    </tr>\n",
       "    <tr>\n",
       "      <th>Corona</th>\n",
       "      <td>7</td>\n",
       "      <td>5</td>\n",
       "      <td>2</td>\n",
       "    </tr>\n",
       "    <tr>\n",
       "      <th>Device</th>\n",
       "      <td>34</td>\n",
       "      <td>38</td>\n",
       "      <td>4</td>\n",
       "    </tr>\n",
       "    <tr>\n",
       "      <th>Integrity</th>\n",
       "      <td>6</td>\n",
       "      <td>2</td>\n",
       "      <td>4</td>\n",
       "    </tr>\n",
       "    <tr>\n",
       "      <th>Time</th>\n",
       "      <td>7</td>\n",
       "      <td>8</td>\n",
       "      <td>1</td>\n",
       "    </tr>\n",
       "    <tr>\n",
       "      <th>Timer</th>\n",
       "      <td>16</td>\n",
       "      <td>20</td>\n",
       "      <td>4</td>\n",
       "    </tr>\n",
       "    <tr>\n",
       "      <th>Weather</th>\n",
       "      <td>14</td>\n",
       "      <td>15</td>\n",
       "      <td>1</td>\n",
       "    </tr>\n",
       "  </tbody>\n",
       "</table>\n",
       "</div>"
      ],
      "text/plain": [
       "           Actual_label_count  Predicted_label_count  Misclassified\n",
       "Alarm                       9                      4              5\n",
       "Calling                    12                     13              1\n",
       "Corona                      7                      5              2\n",
       "Device                     34                     38              4\n",
       "Integrity                   6                      2              4\n",
       "Time                        7                      8              1\n",
       "Timer                      16                     20              4\n",
       "Weather                    14                     15              1"
      ]
     },
     "execution_count": 27,
     "metadata": {},
     "output_type": "execute_result"
    }
   ],
   "source": [
    "df_NB=Missclassification(X_test,y_test,y_pred_NB)\n",
    "df_NB"
   ]
  },
  {
   "cell_type": "code",
   "execution_count": null,
   "id": "4f8ebf74-53e0-4b19-beea-475b4367000e",
   "metadata": {},
   "outputs": [],
   "source": []
  }
 ],
 "metadata": {
  "kernelspec": {
   "display_name": "Python 3 (ipykernel)",
   "language": "python",
   "name": "python3"
  },
  "language_info": {
   "codemirror_mode": {
    "name": "ipython",
    "version": 3
   },
   "file_extension": ".py",
   "mimetype": "text/x-python",
   "name": "python",
   "nbconvert_exporter": "python",
   "pygments_lexer": "ipython3",
   "version": "3.7.10"
  }
 },
 "nbformat": 4,
 "nbformat_minor": 5
}
