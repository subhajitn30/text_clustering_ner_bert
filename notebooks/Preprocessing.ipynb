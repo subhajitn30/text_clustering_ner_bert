{
 "cells": [
  {
   "cell_type": "code",
   "execution_count": 30,
   "id": "9405238d-9ea0-4286-bde9-8324c6bf044e",
   "metadata": {},
   "outputs": [],
   "source": [
    "import numpy as np\n",
    "import pandas as pd \n",
    "import re\n",
    "import warnings\n",
    "pd.set_option(\"display.max_colwidth\", 200)\n",
    "warnings.filterwarnings(\"ignore\")\n",
    "# import nltk\n",
    "# import spacy                                       ## pip install -U spacy\n",
    "# from nltk.tokenize.toktok import ToktokTokenizer\n",
    "import seaborn as sns\n",
    "from sklearn.feature_extraction.text import CountVectorizer\n",
    "import matplotlib.pyplot as plt"
   ]
  },
  {
   "cell_type": "code",
   "execution_count": 2,
   "id": "1961bc2e-64be-4c23-8235-5a5bc85c0f13",
   "metadata": {},
   "outputs": [
    {
     "data": {
      "text/html": [
       "<div>\n",
       "<style scoped>\n",
       "    .dataframe tbody tr th:only-of-type {\n",
       "        vertical-align: middle;\n",
       "    }\n",
       "\n",
       "    .dataframe tbody tr th {\n",
       "        vertical-align: top;\n",
       "    }\n",
       "\n",
       "    .dataframe thead th {\n",
       "        text-align: right;\n",
       "    }\n",
       "</style>\n",
       "<table border=\"1\" class=\"dataframe\">\n",
       "  <thead>\n",
       "    <tr style=\"text-align: right;\">\n",
       "      <th></th>\n",
       "      <th>Test Case Description</th>\n",
       "      <th>Label</th>\n",
       "    </tr>\n",
       "  </thead>\n",
       "  <tbody>\n",
       "    <tr>\n",
       "      <th>0</th>\n",
       "      <td>What's the weather like in Chicago?</td>\n",
       "      <td>Weather</td>\n",
       "    </tr>\n",
       "    <tr>\n",
       "      <th>1</th>\n",
       "      <td>What is the forecast in Tampa for tomorrow?</td>\n",
       "      <td>Weather</td>\n",
       "    </tr>\n",
       "    <tr>\n",
       "      <th>2</th>\n",
       "      <td>What is the weather in Oregon today?</td>\n",
       "      <td>Weather</td>\n",
       "    </tr>\n",
       "    <tr>\n",
       "      <th>3</th>\n",
       "      <td>Is it raining in France right now?</td>\n",
       "      <td>Weather</td>\n",
       "    </tr>\n",
       "    <tr>\n",
       "      <th>4</th>\n",
       "      <td>Show me the weather in Mexico for next week.</td>\n",
       "      <td>Weather</td>\n",
       "    </tr>\n",
       "  </tbody>\n",
       "</table>\n",
       "</div>"
      ],
      "text/plain": [
       "                          Test Case Description    Label\n",
       "0           What's the weather like in Chicago?  Weather\n",
       "1   What is the forecast in Tampa for tomorrow?  Weather\n",
       "2          What is the weather in Oregon today?  Weather\n",
       "3            Is it raining in France right now?  Weather\n",
       "4  Show me the weather in Mexico for next week.  Weather"
      ]
     },
     "execution_count": 2,
     "metadata": {},
     "output_type": "execute_result"
    }
   ],
   "source": [
    "data = pd.read_csv('fbportal_updated.csv')\n",
    "data.head()"
   ]
  },
  {
   "cell_type": "code",
   "execution_count": 3,
   "id": "cf4aed04-da0a-4ba6-9c13-1c086afd5708",
   "metadata": {},
   "outputs": [],
   "source": [
    "def text_cleaner(text):\n",
    "   \n",
    "    newString = text.lower()\n",
    "    newString = re.sub(r\"pre-conditions: \",\"\",newString)\n",
    "    newString = re.sub(r\"precondition: \",\"\",newString)\n",
    "    newString = re.sub(r\"[^a-zA-Z0-9]+\", ' ', newString)\n",
    "    #newString = remove_stopwords(newString)\n",
    "    return newString"
   ]
  },
  {
   "cell_type": "code",
   "execution_count": 4,
   "id": "c8a54088-cc80-44a3-99be-951c81122cc2",
   "metadata": {},
   "outputs": [],
   "source": [
    "#call the function\n",
    "cleaned_text = []\n",
    "data['Test Case Description']=data['Test Case Description'].astype(str)\n",
    "for t in data['Test Case Description']:\n",
    "    cleaned_text.append(text_cleaner(t))\n",
    "data['cleaned_text']=cleaned_text"
   ]
  },
  {
   "cell_type": "code",
   "execution_count": 5,
   "id": "20c6e7f1-d10d-4f1d-99a6-68232633578c",
   "metadata": {},
   "outputs": [
    {
     "data": {
      "text/html": [
       "<div>\n",
       "<style scoped>\n",
       "    .dataframe tbody tr th:only-of-type {\n",
       "        vertical-align: middle;\n",
       "    }\n",
       "\n",
       "    .dataframe tbody tr th {\n",
       "        vertical-align: top;\n",
       "    }\n",
       "\n",
       "    .dataframe thead th {\n",
       "        text-align: right;\n",
       "    }\n",
       "</style>\n",
       "<table border=\"1\" class=\"dataframe\">\n",
       "  <thead>\n",
       "    <tr style=\"text-align: right;\">\n",
       "      <th></th>\n",
       "      <th>Test Case Description</th>\n",
       "      <th>Label</th>\n",
       "      <th>cleaned_text</th>\n",
       "    </tr>\n",
       "  </thead>\n",
       "  <tbody>\n",
       "    <tr>\n",
       "      <th>0</th>\n",
       "      <td>What's the weather like in Chicago?</td>\n",
       "      <td>Weather</td>\n",
       "      <td>what s the weather like in chicago</td>\n",
       "    </tr>\n",
       "    <tr>\n",
       "      <th>1</th>\n",
       "      <td>What is the forecast in Tampa for tomorrow?</td>\n",
       "      <td>Weather</td>\n",
       "      <td>what is the forecast in tampa for tomorrow</td>\n",
       "    </tr>\n",
       "    <tr>\n",
       "      <th>2</th>\n",
       "      <td>What is the weather in Oregon today?</td>\n",
       "      <td>Weather</td>\n",
       "      <td>what is the weather in oregon today</td>\n",
       "    </tr>\n",
       "    <tr>\n",
       "      <th>3</th>\n",
       "      <td>Is it raining in France right now?</td>\n",
       "      <td>Weather</td>\n",
       "      <td>is it raining in france right now</td>\n",
       "    </tr>\n",
       "    <tr>\n",
       "      <th>4</th>\n",
       "      <td>Show me the weather in Mexico for next week.</td>\n",
       "      <td>Weather</td>\n",
       "      <td>show me the weather in mexico for next week</td>\n",
       "    </tr>\n",
       "  </tbody>\n",
       "</table>\n",
       "</div>"
      ],
      "text/plain": [
       "                          Test Case Description    Label  \\\n",
       "0           What's the weather like in Chicago?  Weather   \n",
       "1   What is the forecast in Tampa for tomorrow?  Weather   \n",
       "2          What is the weather in Oregon today?  Weather   \n",
       "3            Is it raining in France right now?  Weather   \n",
       "4  Show me the weather in Mexico for next week.  Weather   \n",
       "\n",
       "                                   cleaned_text  \n",
       "0           what s the weather like in chicago   \n",
       "1   what is the forecast in tampa for tomorrow   \n",
       "2          what is the weather in oregon today   \n",
       "3            is it raining in france right now   \n",
       "4  show me the weather in mexico for next week   "
      ]
     },
     "execution_count": 5,
     "metadata": {},
     "output_type": "execute_result"
    }
   ],
   "source": [
    "data.head()"
   ]
  },
  {
   "cell_type": "code",
   "execution_count": 28,
   "id": "cdb90636-a54a-451e-8df9-b825f18d49c1",
   "metadata": {},
   "outputs": [
    {
     "data": {
      "text/plain": [
       "221            bring up brightness \n",
       "222          brighten screen a bit \n",
       "223          bring down brightness \n",
       "224              darken the screen \n",
       "225       bring up brightness by 1 \n",
       "                   ...             \n",
       "322             turn up volume to 9\n",
       "323           turn volume down to 4\n",
       "324                          unmute\n",
       "325          what is the brightness\n",
       "326    what is the volume right now\n",
       "Name: cleaned_text, Length: 106, dtype: object"
      ]
     },
     "execution_count": 28,
     "metadata": {},
     "output_type": "execute_result"
    }
   ],
   "source": [
    "data[data['Label']=='Device']['cleaned_text']"
   ]
  },
  {
   "cell_type": "code",
   "execution_count": 27,
   "id": "df89cd31-62f1-41cb-b452-f96e210b446c",
   "metadata": {},
   "outputs": [],
   "source": [
    "def rpllacing(text):\n",
    "    words=['mute', 'turn up', 'unmute', 'open','bring']\n",
    "    \n",
    "    for word in text.split():\n",
    "        if word in words:\n",
    "            return t.replace(word, 'brightness')\n",
    "        "
   ]
  },
  {
   "cell_type": "code",
   "execution_count": 29,
   "id": "6399d3c1-5dfe-4418-a897-fe2f93ad26d3",
   "metadata": {},
   "outputs": [
    {
     "data": {
      "text/plain": [
       "221    what is the volume right now\n",
       "222                            None\n",
       "223    what is the volume right now\n",
       "224                            None\n",
       "225    what is the volume right now\n",
       "                   ...             \n",
       "322                            None\n",
       "323                            None\n",
       "324    what is the volume right now\n",
       "325                            None\n",
       "326                            None\n",
       "Name: cleaned_text, Length: 106, dtype: object"
      ]
     },
     "execution_count": 29,
     "metadata": {},
     "output_type": "execute_result"
    }
   ],
   "source": [
    "data[data['Label']=='Device']['cleaned_text'].apply(lambda x: rpllacing(x))"
   ]
  },
  {
   "cell_type": "code",
   "execution_count": null,
   "id": "76003903-4dbb-426c-9c98-db293cf57b10",
   "metadata": {},
   "outputs": [],
   "source": []
  }
 ],
 "metadata": {
  "kernelspec": {
   "display_name": "Python 3 (ipykernel)",
   "language": "python",
   "name": "python3"
  },
  "language_info": {
   "codemirror_mode": {
    "name": "ipython",
    "version": 3
   },
   "file_extension": ".py",
   "mimetype": "text/x-python",
   "name": "python",
   "nbconvert_exporter": "python",
   "pygments_lexer": "ipython3",
   "version": "3.7.10"
  }
 },
 "nbformat": 4,
 "nbformat_minor": 5
}
